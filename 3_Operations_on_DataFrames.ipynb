{
  "nbformat": 4,
  "nbformat_minor": 0,
  "metadata": {
    "celltoolbar": "Raw Cell Format",
    "kernelspec": {
      "display_name": "Python 3",
      "language": "python",
      "name": "python3"
    },
    "language_info": {
      "codemirror_mode": {
        "name": "ipython",
        "version": 3
      },
      "file_extension": ".py",
      "mimetype": "text/x-python",
      "name": "python",
      "nbconvert_exporter": "python",
      "pygments_lexer": "ipython3",
      "version": "3.6.2"
    },
    "colab": {
      "name": "3_Operations on DataFrames.ipynb",
      "provenance": [],
      "include_colab_link": true
    }
  },
  "cells": [
    {
      "cell_type": "markdown",
      "metadata": {
        "id": "view-in-github",
        "colab_type": "text"
      },
      "source": [
        "<a href=\"https://colab.research.google.com/github/RahulKhandebharad/Applied-Data-Science-with-Python/blob/master/3_Operations_on_DataFrames.ipynb\" target=\"_parent\"><img src=\"https://colab.research.google.com/assets/colab-badge.svg\" alt=\"Open In Colab\"/></a>"
      ]
    },
    {
      "cell_type": "markdown",
      "metadata": {
        "id": "LdDzh1aeR9Uq",
        "colab_type": "text"
      },
      "source": [
        "# Merging Dataframes\n"
      ]
    },
    {
      "cell_type": "code",
      "metadata": {
        "id": "3z4J8nDUR9Ux",
        "colab_type": "code",
        "colab": {},
        "outputId": "53aad301-3f94-4e4a-f53e-2c254417fe56"
      },
      "source": [
        "import pandas as pd\n",
        "\n",
        "df = pd.DataFrame([{'Name': 'Chris', 'Item Purchased': 'Sponge', 'Cost': 22.50},\n",
        "                   {'Name': 'Kevyn', 'Item Purchased': 'Kitty Litter', 'Cost': 2.50},\n",
        "                   {'Name': 'Filip', 'Item Purchased': 'Spoon', 'Cost': 5.00}],\n",
        "                  index=['Store 1', 'Store 1', 'Store 2'])\n",
        "df"
      ],
      "execution_count": null,
      "outputs": [
        {
          "output_type": "execute_result",
          "data": {
            "text/html": [
              "<div>\n",
              "<table border=\"1\" class=\"dataframe\">\n",
              "  <thead>\n",
              "    <tr style=\"text-align: right;\">\n",
              "      <th></th>\n",
              "      <th>Cost</th>\n",
              "      <th>Item Purchased</th>\n",
              "      <th>Name</th>\n",
              "    </tr>\n",
              "  </thead>\n",
              "  <tbody>\n",
              "    <tr>\n",
              "      <th>Store 1</th>\n",
              "      <td>22.5</td>\n",
              "      <td>Sponge</td>\n",
              "      <td>Chris</td>\n",
              "    </tr>\n",
              "    <tr>\n",
              "      <th>Store 1</th>\n",
              "      <td>2.5</td>\n",
              "      <td>Kitty Litter</td>\n",
              "      <td>Kevyn</td>\n",
              "    </tr>\n",
              "    <tr>\n",
              "      <th>Store 2</th>\n",
              "      <td>5.0</td>\n",
              "      <td>Spoon</td>\n",
              "      <td>Filip</td>\n",
              "    </tr>\n",
              "  </tbody>\n",
              "</table>\n",
              "</div>"
            ],
            "text/plain": [
              "         Cost Item Purchased   Name\n",
              "Store 1  22.5         Sponge  Chris\n",
              "Store 1   2.5   Kitty Litter  Kevyn\n",
              "Store 2   5.0          Spoon  Filip"
            ]
          },
          "metadata": {
            "tags": []
          },
          "execution_count": 1
        }
      ]
    },
    {
      "cell_type": "code",
      "metadata": {
        "id": "Bli984CiR9VS",
        "colab_type": "code",
        "colab": {},
        "outputId": "5487c9d5-8bd1-442e-981e-e08905bc1231"
      },
      "source": [
        "df['Date'] = ['December 1', 'January 1', 'mid-May']\n",
        "df"
      ],
      "execution_count": null,
      "outputs": [
        {
          "output_type": "execute_result",
          "data": {
            "text/html": [
              "<div>\n",
              "<table border=\"1\" class=\"dataframe\">\n",
              "  <thead>\n",
              "    <tr style=\"text-align: right;\">\n",
              "      <th></th>\n",
              "      <th>Cost</th>\n",
              "      <th>Item Purchased</th>\n",
              "      <th>Name</th>\n",
              "      <th>Date</th>\n",
              "    </tr>\n",
              "  </thead>\n",
              "  <tbody>\n",
              "    <tr>\n",
              "      <th>Store 1</th>\n",
              "      <td>22.5</td>\n",
              "      <td>Sponge</td>\n",
              "      <td>Chris</td>\n",
              "      <td>December 1</td>\n",
              "    </tr>\n",
              "    <tr>\n",
              "      <th>Store 1</th>\n",
              "      <td>2.5</td>\n",
              "      <td>Kitty Litter</td>\n",
              "      <td>Kevyn</td>\n",
              "      <td>January 1</td>\n",
              "    </tr>\n",
              "    <tr>\n",
              "      <th>Store 2</th>\n",
              "      <td>5.0</td>\n",
              "      <td>Spoon</td>\n",
              "      <td>Filip</td>\n",
              "      <td>mid-May</td>\n",
              "    </tr>\n",
              "  </tbody>\n",
              "</table>\n",
              "</div>"
            ],
            "text/plain": [
              "         Cost Item Purchased   Name        Date\n",
              "Store 1  22.5         Sponge  Chris  December 1\n",
              "Store 1   2.5   Kitty Litter  Kevyn   January 1\n",
              "Store 2   5.0          Spoon  Filip     mid-May"
            ]
          },
          "metadata": {
            "tags": []
          },
          "execution_count": 2
        }
      ]
    },
    {
      "cell_type": "code",
      "metadata": {
        "id": "rntAzUZqR9WC",
        "colab_type": "code",
        "colab": {},
        "outputId": "bad862a5-d605-40b3-f38a-ab48b7658e94"
      },
      "source": [
        "df['Delivered'] = True\n",
        "df"
      ],
      "execution_count": null,
      "outputs": [
        {
          "output_type": "execute_result",
          "data": {
            "text/html": [
              "<div>\n",
              "<table border=\"1\" class=\"dataframe\">\n",
              "  <thead>\n",
              "    <tr style=\"text-align: right;\">\n",
              "      <th></th>\n",
              "      <th>Cost</th>\n",
              "      <th>Item Purchased</th>\n",
              "      <th>Name</th>\n",
              "      <th>Date</th>\n",
              "      <th>Delivered</th>\n",
              "    </tr>\n",
              "  </thead>\n",
              "  <tbody>\n",
              "    <tr>\n",
              "      <th>Store 1</th>\n",
              "      <td>22.5</td>\n",
              "      <td>Sponge</td>\n",
              "      <td>Chris</td>\n",
              "      <td>December 1</td>\n",
              "      <td>True</td>\n",
              "    </tr>\n",
              "    <tr>\n",
              "      <th>Store 1</th>\n",
              "      <td>2.5</td>\n",
              "      <td>Kitty Litter</td>\n",
              "      <td>Kevyn</td>\n",
              "      <td>January 1</td>\n",
              "      <td>True</td>\n",
              "    </tr>\n",
              "    <tr>\n",
              "      <th>Store 2</th>\n",
              "      <td>5.0</td>\n",
              "      <td>Spoon</td>\n",
              "      <td>Filip</td>\n",
              "      <td>mid-May</td>\n",
              "      <td>True</td>\n",
              "    </tr>\n",
              "  </tbody>\n",
              "</table>\n",
              "</div>"
            ],
            "text/plain": [
              "         Cost Item Purchased   Name        Date Delivered\n",
              "Store 1  22.5         Sponge  Chris  December 1      True\n",
              "Store 1   2.5   Kitty Litter  Kevyn   January 1      True\n",
              "Store 2   5.0          Spoon  Filip     mid-May      True"
            ]
          },
          "metadata": {
            "tags": []
          },
          "execution_count": 3
        }
      ]
    },
    {
      "cell_type": "code",
      "metadata": {
        "id": "kMRj_nWFR9Wn",
        "colab_type": "code",
        "colab": {},
        "outputId": "788287ab-8b6e-4872-f6b1-946a126eba8a"
      },
      "source": [
        "df['Feedback'] = ['Positive', None, 'Negative']\n",
        "df"
      ],
      "execution_count": null,
      "outputs": [
        {
          "output_type": "execute_result",
          "data": {
            "text/html": [
              "<div>\n",
              "<table border=\"1\" class=\"dataframe\">\n",
              "  <thead>\n",
              "    <tr style=\"text-align: right;\">\n",
              "      <th></th>\n",
              "      <th>Cost</th>\n",
              "      <th>Item Purchased</th>\n",
              "      <th>Name</th>\n",
              "      <th>Date</th>\n",
              "      <th>Delivered</th>\n",
              "      <th>Feedback</th>\n",
              "    </tr>\n",
              "  </thead>\n",
              "  <tbody>\n",
              "    <tr>\n",
              "      <th>Store 1</th>\n",
              "      <td>22.5</td>\n",
              "      <td>Sponge</td>\n",
              "      <td>Chris</td>\n",
              "      <td>December 1</td>\n",
              "      <td>True</td>\n",
              "      <td>Positive</td>\n",
              "    </tr>\n",
              "    <tr>\n",
              "      <th>Store 1</th>\n",
              "      <td>2.5</td>\n",
              "      <td>Kitty Litter</td>\n",
              "      <td>Kevyn</td>\n",
              "      <td>January 1</td>\n",
              "      <td>True</td>\n",
              "      <td>None</td>\n",
              "    </tr>\n",
              "    <tr>\n",
              "      <th>Store 2</th>\n",
              "      <td>5.0</td>\n",
              "      <td>Spoon</td>\n",
              "      <td>Filip</td>\n",
              "      <td>mid-May</td>\n",
              "      <td>True</td>\n",
              "      <td>Negative</td>\n",
              "    </tr>\n",
              "  </tbody>\n",
              "</table>\n",
              "</div>"
            ],
            "text/plain": [
              "         Cost Item Purchased   Name        Date Delivered  Feedback\n",
              "Store 1  22.5         Sponge  Chris  December 1      True  Positive\n",
              "Store 1   2.5   Kitty Litter  Kevyn   January 1      True      None\n",
              "Store 2   5.0          Spoon  Filip     mid-May      True  Negative"
            ]
          },
          "metadata": {
            "tags": []
          },
          "execution_count": 4
        }
      ]
    },
    {
      "cell_type": "code",
      "metadata": {
        "id": "5o2RE8p1R9XW",
        "colab_type": "code",
        "colab": {},
        "outputId": "a60c5163-91fb-4600-e1fb-b0b7db630884"
      },
      "source": [
        "adf = df.reset_index()\n",
        "adf['Date'] = pd.Series({0: 'December 1', 2: 'mid-May'})\n",
        "adf"
      ],
      "execution_count": null,
      "outputs": [
        {
          "output_type": "execute_result",
          "data": {
            "text/html": [
              "<div>\n",
              "<table border=\"1\" class=\"dataframe\">\n",
              "  <thead>\n",
              "    <tr style=\"text-align: right;\">\n",
              "      <th></th>\n",
              "      <th>index</th>\n",
              "      <th>Cost</th>\n",
              "      <th>Item Purchased</th>\n",
              "      <th>Name</th>\n",
              "      <th>Date</th>\n",
              "      <th>Delivered</th>\n",
              "      <th>Feedback</th>\n",
              "    </tr>\n",
              "  </thead>\n",
              "  <tbody>\n",
              "    <tr>\n",
              "      <th>0</th>\n",
              "      <td>Store 1</td>\n",
              "      <td>22.5</td>\n",
              "      <td>Sponge</td>\n",
              "      <td>Chris</td>\n",
              "      <td>December 1</td>\n",
              "      <td>True</td>\n",
              "      <td>Positive</td>\n",
              "    </tr>\n",
              "    <tr>\n",
              "      <th>1</th>\n",
              "      <td>Store 1</td>\n",
              "      <td>2.5</td>\n",
              "      <td>Kitty Litter</td>\n",
              "      <td>Kevyn</td>\n",
              "      <td>NaN</td>\n",
              "      <td>True</td>\n",
              "      <td>None</td>\n",
              "    </tr>\n",
              "    <tr>\n",
              "      <th>2</th>\n",
              "      <td>Store 2</td>\n",
              "      <td>5.0</td>\n",
              "      <td>Spoon</td>\n",
              "      <td>Filip</td>\n",
              "      <td>mid-May</td>\n",
              "      <td>True</td>\n",
              "      <td>Negative</td>\n",
              "    </tr>\n",
              "  </tbody>\n",
              "</table>\n",
              "</div>"
            ],
            "text/plain": [
              "     index  Cost Item Purchased   Name        Date Delivered  Feedback\n",
              "0  Store 1  22.5         Sponge  Chris  December 1      True  Positive\n",
              "1  Store 1   2.5   Kitty Litter  Kevyn         NaN      True      None\n",
              "2  Store 2   5.0          Spoon  Filip     mid-May      True  Negative"
            ]
          },
          "metadata": {
            "tags": []
          },
          "execution_count": 5
        }
      ]
    },
    {
      "cell_type": "code",
      "metadata": {
        "id": "81jQsOGQR9YF",
        "colab_type": "code",
        "colab": {}
      },
      "source": [
        "staff_df = pd.DataFrame([{'Name': 'Kelly', 'Role': 'Director of HR'},\n",
        "                         {'Name': 'Sally', 'Role': 'Course liasion'},\n",
        "                         {'Name': 'James', 'Role': 'Grader'}])\n",
        "staff_df = staff_df.set_index('Name')\n",
        "student_df = pd.DataFrame([{'Name': 'James', 'School': 'Business'},\n",
        "                           {'Name': 'Mike', 'School': 'Law'},\n",
        "                           {'Name': 'Sally', 'School': 'Engineering'}])\n",
        "student_df = student_df.set_index('Name')\n",
        "print(staff_df.head())\n",
        "print()\n",
        "print(student_df.head())"
      ],
      "execution_count": null,
      "outputs": []
    },
    {
      "cell_type": "code",
      "metadata": {
        "scrolled": true,
        "id": "EPRdJiRuR9Yr",
        "colab_type": "code",
        "colab": {}
      },
      "source": [
        "pd.merge(staff_df, student_df, how='outer', left_index=True, right_index=True)"
      ],
      "execution_count": null,
      "outputs": []
    },
    {
      "cell_type": "code",
      "metadata": {
        "id": "bOAkomGrR9ZN",
        "colab_type": "code",
        "colab": {}
      },
      "source": [
        "pd.merge(staff_df, student_df, how='inner', left_index=True, right_index=True)"
      ],
      "execution_count": null,
      "outputs": []
    },
    {
      "cell_type": "code",
      "metadata": {
        "id": "zwnFHgdGR9Zf",
        "colab_type": "code",
        "colab": {}
      },
      "source": [
        "pd.merge(staff_df, student_df, how='left', left_index=True, right_index=True)"
      ],
      "execution_count": null,
      "outputs": []
    },
    {
      "cell_type": "code",
      "metadata": {
        "id": "BzBvi4saR9aE",
        "colab_type": "code",
        "colab": {}
      },
      "source": [
        "pd.merge(staff_df, student_df, how='right', left_index=True, right_index=True)"
      ],
      "execution_count": null,
      "outputs": []
    },
    {
      "cell_type": "code",
      "metadata": {
        "scrolled": true,
        "id": "Tq32DdTkR9aU",
        "colab_type": "code",
        "colab": {}
      },
      "source": [
        "staff_df = staff_df.reset_index()\n",
        "student_df = student_df.reset_index()\n",
        "pd.merge(staff_df, student_df, how='left', left_on='Name', right_on='Name')"
      ],
      "execution_count": null,
      "outputs": []
    },
    {
      "cell_type": "code",
      "metadata": {
        "id": "yUaSOCg5R9as",
        "colab_type": "code",
        "colab": {}
      },
      "source": [
        "staff_df = pd.DataFrame([{'Name': 'Kelly', 'Role': 'Director of HR', 'Location': 'State Street'},\n",
        "                         {'Name': 'Sally', 'Role': 'Course liasion', 'Location': 'Washington Avenue'},\n",
        "                         {'Name': 'James', 'Role': 'Grader', 'Location': 'Washington Avenue'}])\n",
        "student_df = pd.DataFrame([{'Name': 'James', 'School': 'Business', 'Location': '1024 Billiard Avenue'},\n",
        "                           {'Name': 'Mike', 'School': 'Law', 'Location': 'Fraternity House #22'},\n",
        "                           {'Name': 'Sally', 'School': 'Engineering', 'Location': '512 Wilson Crescent'}])\n",
        "pd.merge(staff_df, student_df, how='left', left_on='Name', right_on='Name')"
      ],
      "execution_count": null,
      "outputs": []
    },
    {
      "cell_type": "code",
      "metadata": {
        "id": "2GX11dj6R9bA",
        "colab_type": "code",
        "colab": {}
      },
      "source": [
        "staff_df = pd.DataFrame([{'First Name': 'Kelly', 'Last Name': 'Desjardins', 'Role': 'Director of HR'},\n",
        "                         {'First Name': 'Sally', 'Last Name': 'Brooks', 'Role': 'Course liasion'},\n",
        "                         {'First Name': 'James', 'Last Name': 'Wilde', 'Role': 'Grader'}])\n",
        "student_df = pd.DataFrame([{'First Name': 'James', 'Last Name': 'Hammond', 'School': 'Business'},\n",
        "                           {'First Name': 'Mike', 'Last Name': 'Smith', 'School': 'Law'},\n",
        "                           {'First Name': 'Sally', 'Last Name': 'Brooks', 'School': 'Engineering'}])\n",
        "staff_df\n",
        "student_df\n",
        "pd.merge(staff_df, student_df, how='inner', left_on=['First Name','Last Name'], right_on=['First Name','Last Name'])"
      ],
      "execution_count": null,
      "outputs": []
    },
    {
      "cell_type": "markdown",
      "metadata": {
        "id": "VAXLqrkSR9bP",
        "colab_type": "text"
      },
      "source": [
        "# Idiomatic Pandas: Making Code Pandorable"
      ]
    },
    {
      "cell_type": "code",
      "metadata": {
        "id": "Ogc1O05FR9bT",
        "colab_type": "code",
        "colab": {}
      },
      "source": [
        "import pandas as pd\n",
        "df = pd.read_csv('census.csv')\n",
        "df"
      ],
      "execution_count": null,
      "outputs": []
    },
    {
      "cell_type": "code",
      "metadata": {
        "id": "fGcT84XWR9bj",
        "colab_type": "code",
        "colab": {}
      },
      "source": [
        "(df.where(df['SUMLEV']==50)\n",
        "    .dropna()\n",
        "    .set_index(['STNAME','CTYNAME'])\n",
        "    .rename(columns={'ESTIMATESBASE2010': 'Estimates Base 2010'}))"
      ],
      "execution_count": null,
      "outputs": []
    },
    {
      "cell_type": "code",
      "metadata": {
        "id": "cReZhHfpR9bz",
        "colab_type": "code",
        "colab": {}
      },
      "source": [
        "df = df[df['SUMLEV']==50]\n",
        "df.set_index(['STNAME','CTYNAME'], inplace=True)\n",
        "df.rename(columns={'ESTIMATESBASE2010': 'Estimates Base 2010'})"
      ],
      "execution_count": null,
      "outputs": []
    },
    {
      "cell_type": "code",
      "metadata": {
        "id": "n0mZf14tR9cC",
        "colab_type": "code",
        "colab": {}
      },
      "source": [
        "import numpy as np\n",
        "def min_max(row):\n",
        "    data = row[['POPESTIMATE2010',\n",
        "                'POPESTIMATE2011',\n",
        "                'POPESTIMATE2012',\n",
        "                'POPESTIMATE2013',\n",
        "                'POPESTIMATE2014',\n",
        "                'POPESTIMATE2015']]\n",
        "    return pd.Series({'min': np.min(data), 'max': np.max(data)})"
      ],
      "execution_count": null,
      "outputs": []
    },
    {
      "cell_type": "code",
      "metadata": {
        "id": "GPIsdEAlR9cT",
        "colab_type": "code",
        "colab": {}
      },
      "source": [
        "df.apply(min_max, axis=1)"
      ],
      "execution_count": null,
      "outputs": []
    },
    {
      "cell_type": "code",
      "metadata": {
        "id": "zEt3X0LHR9c3",
        "colab_type": "code",
        "colab": {}
      },
      "source": [
        "import numpy as np\n",
        "def min_max(row):\n",
        "    data = row[['POPESTIMATE2010',\n",
        "                'POPESTIMATE2011',\n",
        "                'POPESTIMATE2012',\n",
        "                'POPESTIMATE2013',\n",
        "                'POPESTIMATE2014',\n",
        "                'POPESTIMATE2015']]\n",
        "    row['max'] = np.max(data)\n",
        "    row['min'] = np.min(data)\n",
        "    return row\n",
        "df.apply(min_max, axis=1)"
      ],
      "execution_count": null,
      "outputs": []
    },
    {
      "cell_type": "code",
      "metadata": {
        "id": "oonVc3QvR9dd",
        "colab_type": "code",
        "colab": {}
      },
      "source": [
        "rows = ['POPESTIMATE2010',\n",
        "        'POPESTIMATE2011',\n",
        "        'POPESTIMATE2012',\n",
        "        'POPESTIMATE2013',\n",
        "        'POPESTIMATE2014',\n",
        "        'POPESTIMATE2015']\n",
        "df.apply(lambda x: np.max(x[rows]), axis=1)"
      ],
      "execution_count": null,
      "outputs": []
    },
    {
      "cell_type": "markdown",
      "metadata": {
        "id": "eW3ueqxPR9dx",
        "colab_type": "text"
      },
      "source": [
        "# Group by"
      ]
    },
    {
      "cell_type": "code",
      "metadata": {
        "id": "fADRn0RFR9d0",
        "colab_type": "code",
        "colab": {}
      },
      "source": [
        "import pandas as pd\n",
        "import numpy as np\n",
        "df = pd.read_csv('census.csv')\n",
        "df = df[df['SUMLEV']==50]\n",
        "df"
      ],
      "execution_count": null,
      "outputs": []
    },
    {
      "cell_type": "code",
      "metadata": {
        "id": "kAnU_8fNR9eE",
        "colab_type": "code",
        "colab": {}
      },
      "source": [
        "%%timeit -n 10\n",
        "for state in df['STNAME'].unique():\n",
        "    avg = np.average(df.where(df['STNAME']==state).dropna()['CENSUS2010POP'])\n",
        "    print('Counties in state ' + state + ' have an average population of ' + str(avg))"
      ],
      "execution_count": null,
      "outputs": []
    },
    {
      "cell_type": "code",
      "metadata": {
        "scrolled": true,
        "id": "UpKxsMt8R9eT",
        "colab_type": "code",
        "colab": {}
      },
      "source": [
        "%%timeit -n 10\n",
        "for group, frame in df.groupby('STNAME'):\n",
        "    avg = np.average(frame['CENSUS2010POP'])\n",
        "    print('Counties in state ' + group + ' have an average population of ' + str(avg))"
      ],
      "execution_count": null,
      "outputs": []
    },
    {
      "cell_type": "code",
      "metadata": {
        "id": "PJvxZzOER9eo",
        "colab_type": "code",
        "colab": {}
      },
      "source": [
        "df.head()"
      ],
      "execution_count": null,
      "outputs": []
    },
    {
      "cell_type": "code",
      "metadata": {
        "id": "Gg7RKETLR9e7",
        "colab_type": "code",
        "colab": {}
      },
      "source": [
        "df = df.set_index('STNAME')\n",
        "\n",
        "def fun(item):\n",
        "    if item[0]<'M':\n",
        "        return 0\n",
        "    if item[0]<'Q':\n",
        "        return 1\n",
        "    return 2\n",
        "\n",
        "for group, frame in df.groupby(fun):\n",
        "    print('There are ' + str(len(frame)) + ' records in group ' + str(group) + ' for processing.')\n"
      ],
      "execution_count": null,
      "outputs": []
    },
    {
      "cell_type": "code",
      "metadata": {
        "id": "WNa45KcKR9fP",
        "colab_type": "code",
        "colab": {}
      },
      "source": [
        "df = pd.read_csv('census.csv')\n",
        "df = df[df['SUMLEV']==50]"
      ],
      "execution_count": null,
      "outputs": []
    },
    {
      "cell_type": "code",
      "metadata": {
        "id": "lmR_GWwnR9fi",
        "colab_type": "code",
        "colab": {}
      },
      "source": [
        "df.groupby('STNAME').agg({'CENSUS2010POP': np.average})"
      ],
      "execution_count": null,
      "outputs": []
    },
    {
      "cell_type": "code",
      "metadata": {
        "id": "4Xxs6HdxR9f1",
        "colab_type": "code",
        "colab": {}
      },
      "source": [
        "print(type(df.groupby(level=0)['POPESTIMATE2010','POPESTIMATE2011']))\n",
        "print(type(df.groupby(level=0)['POPESTIMATE2010']))"
      ],
      "execution_count": null,
      "outputs": []
    },
    {
      "cell_type": "code",
      "metadata": {
        "id": "8TA7StLKR9gG",
        "colab_type": "code",
        "colab": {}
      },
      "source": [
        "(df.set_index('STNAME').groupby(level=0)['CENSUS2010POP']\n",
        "    .agg({'avg': np.average, 'sum': np.sum}))"
      ],
      "execution_count": null,
      "outputs": []
    },
    {
      "cell_type": "code",
      "metadata": {
        "id": "1dirI7HKR9gW",
        "colab_type": "code",
        "colab": {}
      },
      "source": [
        "(df.set_index('STNAME').groupby(level=0)['POPESTIMATE2010','POPESTIMATE2011']\n",
        "    .agg({'avg': np.average, 'sum': np.sum}))"
      ],
      "execution_count": null,
      "outputs": []
    },
    {
      "cell_type": "code",
      "metadata": {
        "id": "UaOZmtyFR9gt",
        "colab_type": "code",
        "colab": {}
      },
      "source": [
        "(df.set_index('STNAME').groupby(level=0)['POPESTIMATE2010','POPESTIMATE2011']\n",
        "    .agg({'POPESTIMATE2010': np.average, 'POPESTIMATE2011': np.sum}))"
      ],
      "execution_count": null,
      "outputs": []
    },
    {
      "cell_type": "markdown",
      "metadata": {
        "id": "-B5LszqPR9hA",
        "colab_type": "text"
      },
      "source": [
        "# Scales"
      ]
    },
    {
      "cell_type": "code",
      "metadata": {
        "id": "w3hZumZeR9hC",
        "colab_type": "code",
        "colab": {}
      },
      "source": [
        "df = pd.DataFrame(['A+', 'A', 'A-', 'B+', 'B', 'B-', 'C+', 'C', 'C-', 'D+', 'D'],\n",
        "                  index=['excellent', 'excellent', 'excellent', 'good', 'good', 'good', 'ok', 'ok', 'ok', 'poor', 'poor'])\n",
        "df.rename(columns={0: 'Grades'}, inplace=True)\n",
        "df"
      ],
      "execution_count": null,
      "outputs": []
    },
    {
      "cell_type": "code",
      "metadata": {
        "id": "GD14ef5DR9hT",
        "colab_type": "code",
        "colab": {}
      },
      "source": [
        "df['Grades'].astype('category').head()"
      ],
      "execution_count": null,
      "outputs": []
    },
    {
      "cell_type": "code",
      "metadata": {
        "id": "KEpy9LR9R9hx",
        "colab_type": "code",
        "colab": {}
      },
      "source": [
        "grades = df['Grades'].astype('category',\n",
        "                             categories=['D', 'D+', 'C-', 'C', 'C+', 'B-', 'B', 'B+', 'A-', 'A', 'A+'],\n",
        "                             ordered=True)\n",
        "grades.head()"
      ],
      "execution_count": null,
      "outputs": []
    },
    {
      "cell_type": "code",
      "metadata": {
        "id": "L7-vnYQqR9iA",
        "colab_type": "code",
        "colab": {}
      },
      "source": [
        "grades > 'C'"
      ],
      "execution_count": null,
      "outputs": []
    },
    {
      "cell_type": "code",
      "metadata": {
        "id": "tA6U1S88R9iN",
        "colab_type": "code",
        "colab": {}
      },
      "source": [
        "df = pd.read_csv('census.csv')\n",
        "df = df[df['SUMLEV']==50]\n",
        "df = df.set_index('STNAME').groupby(level=0)['CENSUS2010POP'].agg({'avg': np.average})\n",
        "pd.cut(df['avg'],10)"
      ],
      "execution_count": null,
      "outputs": []
    },
    {
      "cell_type": "markdown",
      "metadata": {
        "id": "VxlkHCsjR9ii",
        "colab_type": "text"
      },
      "source": [
        "# Pivot Tables"
      ]
    },
    {
      "cell_type": "code",
      "metadata": {
        "id": "gyGsKgcsR9il",
        "colab_type": "code",
        "colab": {}
      },
      "source": [
        "#http://open.canada.ca/data/en/dataset/98f1a129-f628-4ce4-b24d-6f16bf24dd64\n",
        "df = pd.read_csv('cars.csv')"
      ],
      "execution_count": null,
      "outputs": []
    },
    {
      "cell_type": "code",
      "metadata": {
        "id": "Ve3jI9THR9i6",
        "colab_type": "code",
        "colab": {}
      },
      "source": [
        "df.head()"
      ],
      "execution_count": null,
      "outputs": []
    },
    {
      "cell_type": "code",
      "metadata": {
        "id": "wmKkJfsIR9jL",
        "colab_type": "code",
        "colab": {}
      },
      "source": [
        "df.pivot_table(values='(kW)', index='YEAR', columns='Make', aggfunc=np.mean)"
      ],
      "execution_count": null,
      "outputs": []
    },
    {
      "cell_type": "code",
      "metadata": {
        "id": "0_3ftg_ZR9jZ",
        "colab_type": "code",
        "colab": {}
      },
      "source": [
        "df.pivot_table(values='(kW)', index='YEAR', columns='Make', aggfunc=[np.mean,np.min], margins=True)"
      ],
      "execution_count": null,
      "outputs": []
    },
    {
      "cell_type": "markdown",
      "metadata": {
        "id": "Io5NPLKnR9j2",
        "colab_type": "text"
      },
      "source": [
        "# Date Functionality in Pandas"
      ]
    },
    {
      "cell_type": "code",
      "metadata": {
        "id": "MNYhEJlVR9j4",
        "colab_type": "code",
        "colab": {}
      },
      "source": [
        "import pandas as pd\n",
        "import numpy as np"
      ],
      "execution_count": null,
      "outputs": []
    },
    {
      "cell_type": "markdown",
      "metadata": {
        "id": "0cp0q8htR9lS",
        "colab_type": "text"
      },
      "source": [
        "### Timestamp"
      ]
    },
    {
      "cell_type": "code",
      "metadata": {
        "id": "fZKB7JMTR9lV",
        "colab_type": "code",
        "colab": {},
        "outputId": "90d0e3c1-f108-43e8-fd5d-fba6eeda9fa5"
      },
      "source": [
        "pd.Timestamp('9/1/2016 10:05AM')"
      ],
      "execution_count": null,
      "outputs": [
        {
          "output_type": "execute_result",
          "data": {
            "text/plain": [
              "Timestamp('2016-09-01 10:05:00')"
            ]
          },
          "metadata": {
            "tags": []
          },
          "execution_count": 3
        }
      ]
    },
    {
      "cell_type": "markdown",
      "metadata": {
        "id": "fyfrZbSrR9ly",
        "colab_type": "text"
      },
      "source": [
        "### Period"
      ]
    },
    {
      "cell_type": "code",
      "metadata": {
        "id": "pzP0NQpkR9l3",
        "colab_type": "code",
        "colab": {},
        "outputId": "24417fe6-2d84-4310-e696-7f6e0284863c"
      },
      "source": [
        "pd.Period('1/2016')"
      ],
      "execution_count": null,
      "outputs": [
        {
          "output_type": "execute_result",
          "data": {
            "text/plain": [
              "Period('2016-01', 'M')"
            ]
          },
          "metadata": {
            "tags": []
          },
          "execution_count": 4
        }
      ]
    },
    {
      "cell_type": "code",
      "metadata": {
        "id": "u0ZCCaRkR9mM",
        "colab_type": "code",
        "colab": {},
        "outputId": "cecb5308-7fb2-4819-8db3-1b397db8a2b0"
      },
      "source": [
        "pd.Period('3/5/2016')"
      ],
      "execution_count": null,
      "outputs": [
        {
          "output_type": "execute_result",
          "data": {
            "text/plain": [
              "Period('2016-03-05', 'D')"
            ]
          },
          "metadata": {
            "tags": []
          },
          "execution_count": 5
        }
      ]
    },
    {
      "cell_type": "markdown",
      "metadata": {
        "id": "CJECNkIbR9mi",
        "colab_type": "text"
      },
      "source": [
        "### DatetimeIndex"
      ]
    },
    {
      "cell_type": "code",
      "metadata": {
        "id": "9Gbx9APqR9mn",
        "colab_type": "code",
        "colab": {},
        "outputId": "a689ad91-2906-4211-bd06-a29b917ad93d"
      },
      "source": [
        "t1 = pd.Series(list('abc'), [pd.Timestamp('2016-09-01'), pd.Timestamp('2016-09-02'), pd.Timestamp('2016-09-03')])\n",
        "t1"
      ],
      "execution_count": null,
      "outputs": [
        {
          "output_type": "execute_result",
          "data": {
            "text/plain": [
              "2016-09-01    a\n",
              "2016-09-02    b\n",
              "2016-09-03    c\n",
              "dtype: object"
            ]
          },
          "metadata": {
            "tags": []
          },
          "execution_count": 6
        }
      ]
    },
    {
      "cell_type": "code",
      "metadata": {
        "id": "GBQxJN-_R9m5",
        "colab_type": "code",
        "colab": {},
        "outputId": "5e71160a-c7a1-4075-b444-0285506f7762"
      },
      "source": [
        "type(t1.index)"
      ],
      "execution_count": null,
      "outputs": [
        {
          "output_type": "execute_result",
          "data": {
            "text/plain": [
              "pandas.tseries.index.DatetimeIndex"
            ]
          },
          "metadata": {
            "tags": []
          },
          "execution_count": 7
        }
      ]
    },
    {
      "cell_type": "markdown",
      "metadata": {
        "id": "Z6NvfM-oR9nM",
        "colab_type": "text"
      },
      "source": [
        "### PeriodIndex"
      ]
    },
    {
      "cell_type": "code",
      "metadata": {
        "id": "k7jEqgwXR9nP",
        "colab_type": "code",
        "colab": {},
        "outputId": "97c1377f-1a26-456d-dcbf-b39db8d92a3d"
      },
      "source": [
        "t2 = pd.Series(list('def'), [pd.Period('2016-09'), pd.Period('2016-10'), pd.Period('2016-11')])\n",
        "t2"
      ],
      "execution_count": null,
      "outputs": [
        {
          "output_type": "execute_result",
          "data": {
            "text/plain": [
              "2016-09    d\n",
              "2016-10    e\n",
              "2016-11    f\n",
              "Freq: M, dtype: object"
            ]
          },
          "metadata": {
            "tags": []
          },
          "execution_count": 8
        }
      ]
    },
    {
      "cell_type": "code",
      "metadata": {
        "id": "OADlCV77R9ni",
        "colab_type": "code",
        "colab": {},
        "outputId": "aea6c316-49bc-4dac-b518-019851b051d8"
      },
      "source": [
        "type(t2.index)"
      ],
      "execution_count": null,
      "outputs": [
        {
          "output_type": "execute_result",
          "data": {
            "text/plain": [
              "pandas.tseries.period.PeriodIndex"
            ]
          },
          "metadata": {
            "tags": []
          },
          "execution_count": 9
        }
      ]
    },
    {
      "cell_type": "markdown",
      "metadata": {
        "id": "Z3q7juohR9n7",
        "colab_type": "text"
      },
      "source": [
        "### Converting to Datetime"
      ]
    },
    {
      "cell_type": "code",
      "metadata": {
        "id": "aP2UdcKWR9n_",
        "colab_type": "code",
        "colab": {},
        "outputId": "1d7fe2f1-084e-4c5d-eee6-d67a7254aab3"
      },
      "source": [
        "d1 = ['2 June 2013', 'Aug 29, 2014', '2015-06-26', '7/12/16']\n",
        "ts3 = pd.DataFrame(np.random.randint(10, 100, (4,2)), index=d1, columns=list('ab'))\n",
        "ts3"
      ],
      "execution_count": null,
      "outputs": [
        {
          "output_type": "execute_result",
          "data": {
            "text/html": [
              "<div>\n",
              "<table border=\"1\" class=\"dataframe\">\n",
              "  <thead>\n",
              "    <tr style=\"text-align: right;\">\n",
              "      <th></th>\n",
              "      <th>a</th>\n",
              "      <th>b</th>\n",
              "    </tr>\n",
              "  </thead>\n",
              "  <tbody>\n",
              "    <tr>\n",
              "      <th>2 June 2013</th>\n",
              "      <td>16</td>\n",
              "      <td>46</td>\n",
              "    </tr>\n",
              "    <tr>\n",
              "      <th>Aug 29, 2014</th>\n",
              "      <td>14</td>\n",
              "      <td>66</td>\n",
              "    </tr>\n",
              "    <tr>\n",
              "      <th>2015-06-26</th>\n",
              "      <td>59</td>\n",
              "      <td>99</td>\n",
              "    </tr>\n",
              "    <tr>\n",
              "      <th>7/12/16</th>\n",
              "      <td>27</td>\n",
              "      <td>17</td>\n",
              "    </tr>\n",
              "  </tbody>\n",
              "</table>\n",
              "</div>"
            ],
            "text/plain": [
              "               a   b\n",
              "2 June 2013   16  46\n",
              "Aug 29, 2014  14  66\n",
              "2015-06-26    59  99\n",
              "7/12/16       27  17"
            ]
          },
          "metadata": {
            "tags": []
          },
          "execution_count": 10
        }
      ]
    },
    {
      "cell_type": "code",
      "metadata": {
        "id": "eb1x78n8R9oX",
        "colab_type": "code",
        "colab": {},
        "outputId": "99c9d60b-ed56-4ab8-ac09-38cdce51a1c6"
      },
      "source": [
        "ts3.index = pd.to_datetime(ts3.index)\n",
        "ts3"
      ],
      "execution_count": null,
      "outputs": [
        {
          "output_type": "execute_result",
          "data": {
            "text/html": [
              "<div>\n",
              "<table border=\"1\" class=\"dataframe\">\n",
              "  <thead>\n",
              "    <tr style=\"text-align: right;\">\n",
              "      <th></th>\n",
              "      <th>a</th>\n",
              "      <th>b</th>\n",
              "    </tr>\n",
              "  </thead>\n",
              "  <tbody>\n",
              "    <tr>\n",
              "      <th>2013-06-02</th>\n",
              "      <td>16</td>\n",
              "      <td>46</td>\n",
              "    </tr>\n",
              "    <tr>\n",
              "      <th>2014-08-29</th>\n",
              "      <td>14</td>\n",
              "      <td>66</td>\n",
              "    </tr>\n",
              "    <tr>\n",
              "      <th>2015-06-26</th>\n",
              "      <td>59</td>\n",
              "      <td>99</td>\n",
              "    </tr>\n",
              "    <tr>\n",
              "      <th>2016-07-12</th>\n",
              "      <td>27</td>\n",
              "      <td>17</td>\n",
              "    </tr>\n",
              "  </tbody>\n",
              "</table>\n",
              "</div>"
            ],
            "text/plain": [
              "             a   b\n",
              "2013-06-02  16  46\n",
              "2014-08-29  14  66\n",
              "2015-06-26  59  99\n",
              "2016-07-12  27  17"
            ]
          },
          "metadata": {
            "tags": []
          },
          "execution_count": 11
        }
      ]
    },
    {
      "cell_type": "code",
      "metadata": {
        "id": "V0_GZvXSR9o_",
        "colab_type": "code",
        "colab": {},
        "outputId": "21509da8-73e8-47a6-c6c3-4cd79b20c3e9"
      },
      "source": [
        "pd.to_datetime('4.7.12', dayfirst=True)"
      ],
      "execution_count": null,
      "outputs": [
        {
          "output_type": "execute_result",
          "data": {
            "text/plain": [
              "Timestamp('2012-07-04 00:00:00')"
            ]
          },
          "metadata": {
            "tags": []
          },
          "execution_count": 12
        }
      ]
    },
    {
      "cell_type": "markdown",
      "metadata": {
        "id": "h3qsEBLQR9pW",
        "colab_type": "text"
      },
      "source": [
        "### Timedeltas"
      ]
    },
    {
      "cell_type": "code",
      "metadata": {
        "id": "abEX4W_0R9pY",
        "colab_type": "code",
        "colab": {},
        "outputId": "6aae1088-ede1-406a-9350-4af901af34ff"
      },
      "source": [
        "pd.Timestamp('9/3/2016')-pd.Timestamp('9/1/2016')"
      ],
      "execution_count": null,
      "outputs": [
        {
          "output_type": "execute_result",
          "data": {
            "text/plain": [
              "Timedelta('2 days 00:00:00')"
            ]
          },
          "metadata": {
            "tags": []
          },
          "execution_count": 13
        }
      ]
    },
    {
      "cell_type": "code",
      "metadata": {
        "id": "xWPetvHhR9pp",
        "colab_type": "code",
        "colab": {},
        "outputId": "9efbafde-e30f-4888-9163-775aaf01e990"
      },
      "source": [
        "pd.Timestamp('9/2/2016 8:10AM') + pd.Timedelta('12D 3H')"
      ],
      "execution_count": null,
      "outputs": [
        {
          "output_type": "execute_result",
          "data": {
            "text/plain": [
              "Timestamp('2016-09-14 11:10:00')"
            ]
          },
          "metadata": {
            "tags": []
          },
          "execution_count": 14
        }
      ]
    },
    {
      "cell_type": "markdown",
      "metadata": {
        "id": "olQk6eHDR9p9",
        "colab_type": "text"
      },
      "source": [
        "### Working with Dates in a Dataframe"
      ]
    },
    {
      "cell_type": "code",
      "metadata": {
        "id": "Jv0ZmiEeR9p_",
        "colab_type": "code",
        "colab": {},
        "outputId": "a13c0dff-f6c9-405b-b1d6-998e4ce57bfd"
      },
      "source": [
        "dates = pd.date_range('10-01-2016', periods=9, freq='2W-SUN')\n",
        "dates"
      ],
      "execution_count": null,
      "outputs": [
        {
          "output_type": "execute_result",
          "data": {
            "text/plain": [
              "DatetimeIndex(['2016-10-02', '2016-10-16', '2016-10-30', '2016-11-13',\n",
              "               '2016-11-27', '2016-12-11', '2016-12-25', '2017-01-08',\n",
              "               '2017-01-22'],\n",
              "              dtype='datetime64[ns]', freq='2W-SUN')"
            ]
          },
          "metadata": {
            "tags": []
          },
          "execution_count": 15
        }
      ]
    },
    {
      "cell_type": "code",
      "metadata": {
        "id": "CW19U5aXR9qL",
        "colab_type": "code",
        "colab": {},
        "outputId": "ffeef830-580c-4d48-c233-64fca7627d4e"
      },
      "source": [
        "df = pd.DataFrame({'Count 1': 100 + np.random.randint(-5, 10, 9).cumsum(),\n",
        "                  'Count 2': 120 + np.random.randint(-5, 10, 9)}, index=dates)\n",
        "df"
      ],
      "execution_count": null,
      "outputs": [
        {
          "output_type": "execute_result",
          "data": {
            "text/html": [
              "<div>\n",
              "<table border=\"1\" class=\"dataframe\">\n",
              "  <thead>\n",
              "    <tr style=\"text-align: right;\">\n",
              "      <th></th>\n",
              "      <th>Count 1</th>\n",
              "      <th>Count 2</th>\n",
              "    </tr>\n",
              "  </thead>\n",
              "  <tbody>\n",
              "    <tr>\n",
              "      <th>2016-10-02</th>\n",
              "      <td>104</td>\n",
              "      <td>125</td>\n",
              "    </tr>\n",
              "    <tr>\n",
              "      <th>2016-10-16</th>\n",
              "      <td>109</td>\n",
              "      <td>122</td>\n",
              "    </tr>\n",
              "    <tr>\n",
              "      <th>2016-10-30</th>\n",
              "      <td>111</td>\n",
              "      <td>127</td>\n",
              "    </tr>\n",
              "    <tr>\n",
              "      <th>2016-11-13</th>\n",
              "      <td>117</td>\n",
              "      <td>126</td>\n",
              "    </tr>\n",
              "    <tr>\n",
              "      <th>2016-11-27</th>\n",
              "      <td>114</td>\n",
              "      <td>126</td>\n",
              "    </tr>\n",
              "    <tr>\n",
              "      <th>2016-12-11</th>\n",
              "      <td>109</td>\n",
              "      <td>121</td>\n",
              "    </tr>\n",
              "    <tr>\n",
              "      <th>2016-12-25</th>\n",
              "      <td>105</td>\n",
              "      <td>126</td>\n",
              "    </tr>\n",
              "    <tr>\n",
              "      <th>2017-01-08</th>\n",
              "      <td>105</td>\n",
              "      <td>125</td>\n",
              "    </tr>\n",
              "    <tr>\n",
              "      <th>2017-01-22</th>\n",
              "      <td>101</td>\n",
              "      <td>123</td>\n",
              "    </tr>\n",
              "  </tbody>\n",
              "</table>\n",
              "</div>"
            ],
            "text/plain": [
              "            Count 1  Count 2\n",
              "2016-10-02      104      125\n",
              "2016-10-16      109      122\n",
              "2016-10-30      111      127\n",
              "2016-11-13      117      126\n",
              "2016-11-27      114      126\n",
              "2016-12-11      109      121\n",
              "2016-12-25      105      126\n",
              "2017-01-08      105      125\n",
              "2017-01-22      101      123"
            ]
          },
          "metadata": {
            "tags": []
          },
          "execution_count": 16
        }
      ]
    },
    {
      "cell_type": "code",
      "metadata": {
        "id": "Tyt0lPbWR9qY",
        "colab_type": "code",
        "colab": {},
        "outputId": "dbfce50a-93ba-4edd-c2cd-02b16e22ba2e"
      },
      "source": [
        "df.index.weekday_name"
      ],
      "execution_count": null,
      "outputs": [
        {
          "output_type": "execute_result",
          "data": {
            "text/plain": [
              "array(['Sunday', 'Sunday', 'Sunday', 'Sunday', 'Sunday', 'Sunday',\n",
              "       'Sunday', 'Sunday', 'Sunday'], dtype=object)"
            ]
          },
          "metadata": {
            "tags": []
          },
          "execution_count": 17
        }
      ]
    },
    {
      "cell_type": "code",
      "metadata": {
        "id": "SEI-toCTR9ql",
        "colab_type": "code",
        "colab": {},
        "outputId": "98cc1973-c4f1-43ba-d01c-ddac051173bf"
      },
      "source": [
        "df.diff()"
      ],
      "execution_count": null,
      "outputs": [
        {
          "output_type": "execute_result",
          "data": {
            "text/html": [
              "<div>\n",
              "<table border=\"1\" class=\"dataframe\">\n",
              "  <thead>\n",
              "    <tr style=\"text-align: right;\">\n",
              "      <th></th>\n",
              "      <th>Count 1</th>\n",
              "      <th>Count 2</th>\n",
              "    </tr>\n",
              "  </thead>\n",
              "  <tbody>\n",
              "    <tr>\n",
              "      <th>2016-10-02</th>\n",
              "      <td>NaN</td>\n",
              "      <td>NaN</td>\n",
              "    </tr>\n",
              "    <tr>\n",
              "      <th>2016-10-16</th>\n",
              "      <td>5.0</td>\n",
              "      <td>-3.0</td>\n",
              "    </tr>\n",
              "    <tr>\n",
              "      <th>2016-10-30</th>\n",
              "      <td>2.0</td>\n",
              "      <td>5.0</td>\n",
              "    </tr>\n",
              "    <tr>\n",
              "      <th>2016-11-13</th>\n",
              "      <td>6.0</td>\n",
              "      <td>-1.0</td>\n",
              "    </tr>\n",
              "    <tr>\n",
              "      <th>2016-11-27</th>\n",
              "      <td>-3.0</td>\n",
              "      <td>0.0</td>\n",
              "    </tr>\n",
              "    <tr>\n",
              "      <th>2016-12-11</th>\n",
              "      <td>-5.0</td>\n",
              "      <td>-5.0</td>\n",
              "    </tr>\n",
              "    <tr>\n",
              "      <th>2016-12-25</th>\n",
              "      <td>-4.0</td>\n",
              "      <td>5.0</td>\n",
              "    </tr>\n",
              "    <tr>\n",
              "      <th>2017-01-08</th>\n",
              "      <td>0.0</td>\n",
              "      <td>-1.0</td>\n",
              "    </tr>\n",
              "    <tr>\n",
              "      <th>2017-01-22</th>\n",
              "      <td>-4.0</td>\n",
              "      <td>-2.0</td>\n",
              "    </tr>\n",
              "  </tbody>\n",
              "</table>\n",
              "</div>"
            ],
            "text/plain": [
              "            Count 1  Count 2\n",
              "2016-10-02      NaN      NaN\n",
              "2016-10-16      5.0     -3.0\n",
              "2016-10-30      2.0      5.0\n",
              "2016-11-13      6.0     -1.0\n",
              "2016-11-27     -3.0      0.0\n",
              "2016-12-11     -5.0     -5.0\n",
              "2016-12-25     -4.0      5.0\n",
              "2017-01-08      0.0     -1.0\n",
              "2017-01-22     -4.0     -2.0"
            ]
          },
          "metadata": {
            "tags": []
          },
          "execution_count": 18
        }
      ]
    },
    {
      "cell_type": "code",
      "metadata": {
        "id": "KiJGd9YoR9q0",
        "colab_type": "code",
        "colab": {},
        "outputId": "87257208-13c0-49b6-d069-8da83fff393c"
      },
      "source": [
        "df.resample('M').mean()"
      ],
      "execution_count": null,
      "outputs": [
        {
          "output_type": "execute_result",
          "data": {
            "text/html": [
              "<div>\n",
              "<table border=\"1\" class=\"dataframe\">\n",
              "  <thead>\n",
              "    <tr style=\"text-align: right;\">\n",
              "      <th></th>\n",
              "      <th>Count 1</th>\n",
              "      <th>Count 2</th>\n",
              "    </tr>\n",
              "  </thead>\n",
              "  <tbody>\n",
              "    <tr>\n",
              "      <th>2016-10-31</th>\n",
              "      <td>108.0</td>\n",
              "      <td>124.666667</td>\n",
              "    </tr>\n",
              "    <tr>\n",
              "      <th>2016-11-30</th>\n",
              "      <td>115.5</td>\n",
              "      <td>126.000000</td>\n",
              "    </tr>\n",
              "    <tr>\n",
              "      <th>2016-12-31</th>\n",
              "      <td>107.0</td>\n",
              "      <td>123.500000</td>\n",
              "    </tr>\n",
              "    <tr>\n",
              "      <th>2017-01-31</th>\n",
              "      <td>103.0</td>\n",
              "      <td>124.000000</td>\n",
              "    </tr>\n",
              "  </tbody>\n",
              "</table>\n",
              "</div>"
            ],
            "text/plain": [
              "            Count 1     Count 2\n",
              "2016-10-31    108.0  124.666667\n",
              "2016-11-30    115.5  126.000000\n",
              "2016-12-31    107.0  123.500000\n",
              "2017-01-31    103.0  124.000000"
            ]
          },
          "metadata": {
            "tags": []
          },
          "execution_count": 19
        }
      ]
    },
    {
      "cell_type": "code",
      "metadata": {
        "id": "EwZII3dCR9q-",
        "colab_type": "code",
        "colab": {},
        "outputId": "2b39ea11-68e2-4327-9634-67b71baf38d6"
      },
      "source": [
        "df['2017']"
      ],
      "execution_count": null,
      "outputs": [
        {
          "output_type": "execute_result",
          "data": {
            "text/html": [
              "<div>\n",
              "<table border=\"1\" class=\"dataframe\">\n",
              "  <thead>\n",
              "    <tr style=\"text-align: right;\">\n",
              "      <th></th>\n",
              "      <th>Count 1</th>\n",
              "      <th>Count 2</th>\n",
              "    </tr>\n",
              "  </thead>\n",
              "  <tbody>\n",
              "    <tr>\n",
              "      <th>2017-01-08</th>\n",
              "      <td>105</td>\n",
              "      <td>125</td>\n",
              "    </tr>\n",
              "    <tr>\n",
              "      <th>2017-01-22</th>\n",
              "      <td>101</td>\n",
              "      <td>123</td>\n",
              "    </tr>\n",
              "  </tbody>\n",
              "</table>\n",
              "</div>"
            ],
            "text/plain": [
              "            Count 1  Count 2\n",
              "2017-01-08      105      125\n",
              "2017-01-22      101      123"
            ]
          },
          "metadata": {
            "tags": []
          },
          "execution_count": 20
        }
      ]
    },
    {
      "cell_type": "code",
      "metadata": {
        "id": "9B3b1pfYR9rI",
        "colab_type": "code",
        "colab": {},
        "outputId": "54c91f59-9011-4082-e420-10978c1fd687"
      },
      "source": [
        "df['2016-12']"
      ],
      "execution_count": null,
      "outputs": [
        {
          "output_type": "execute_result",
          "data": {
            "text/html": [
              "<div>\n",
              "<table border=\"1\" class=\"dataframe\">\n",
              "  <thead>\n",
              "    <tr style=\"text-align: right;\">\n",
              "      <th></th>\n",
              "      <th>Count 1</th>\n",
              "      <th>Count 2</th>\n",
              "    </tr>\n",
              "  </thead>\n",
              "  <tbody>\n",
              "    <tr>\n",
              "      <th>2016-12-11</th>\n",
              "      <td>109</td>\n",
              "      <td>121</td>\n",
              "    </tr>\n",
              "    <tr>\n",
              "      <th>2016-12-25</th>\n",
              "      <td>105</td>\n",
              "      <td>126</td>\n",
              "    </tr>\n",
              "  </tbody>\n",
              "</table>\n",
              "</div>"
            ],
            "text/plain": [
              "            Count 1  Count 2\n",
              "2016-12-11      109      121\n",
              "2016-12-25      105      126"
            ]
          },
          "metadata": {
            "tags": []
          },
          "execution_count": 21
        }
      ]
    },
    {
      "cell_type": "code",
      "metadata": {
        "id": "u2cV3aOrR9rY",
        "colab_type": "code",
        "colab": {},
        "outputId": "bfaa3e06-1867-4b88-f1dc-a7ca763373ba"
      },
      "source": [
        "df['2016-12':]"
      ],
      "execution_count": null,
      "outputs": [
        {
          "output_type": "execute_result",
          "data": {
            "text/html": [
              "<div>\n",
              "<table border=\"1\" class=\"dataframe\">\n",
              "  <thead>\n",
              "    <tr style=\"text-align: right;\">\n",
              "      <th></th>\n",
              "      <th>Count 1</th>\n",
              "      <th>Count 2</th>\n",
              "    </tr>\n",
              "  </thead>\n",
              "  <tbody>\n",
              "    <tr>\n",
              "      <th>2016-12-11</th>\n",
              "      <td>109</td>\n",
              "      <td>121</td>\n",
              "    </tr>\n",
              "    <tr>\n",
              "      <th>2016-12-25</th>\n",
              "      <td>105</td>\n",
              "      <td>126</td>\n",
              "    </tr>\n",
              "    <tr>\n",
              "      <th>2017-01-08</th>\n",
              "      <td>105</td>\n",
              "      <td>125</td>\n",
              "    </tr>\n",
              "    <tr>\n",
              "      <th>2017-01-22</th>\n",
              "      <td>101</td>\n",
              "      <td>123</td>\n",
              "    </tr>\n",
              "  </tbody>\n",
              "</table>\n",
              "</div>"
            ],
            "text/plain": [
              "            Count 1  Count 2\n",
              "2016-12-11      109      121\n",
              "2016-12-25      105      126\n",
              "2017-01-08      105      125\n",
              "2017-01-22      101      123"
            ]
          },
          "metadata": {
            "tags": []
          },
          "execution_count": 22
        }
      ]
    },
    {
      "cell_type": "code",
      "metadata": {
        "id": "hTy5xfSZR9rm",
        "colab_type": "code",
        "colab": {}
      },
      "source": [
        "df.asfreq('W', method='ffill')"
      ],
      "execution_count": null,
      "outputs": []
    },
    {
      "cell_type": "code",
      "metadata": {
        "id": "vLQ7wKqwR9r3",
        "colab_type": "code",
        "colab": {}
      },
      "source": [
        "import matplotlib.pyplot as plt\n",
        "%matplotlib inline\n",
        "\n",
        "df.plot()"
      ],
      "execution_count": null,
      "outputs": []
    }
  ]
}