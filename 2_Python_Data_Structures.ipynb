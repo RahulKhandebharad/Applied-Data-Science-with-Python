{
  "nbformat": 4,
  "nbformat_minor": 0,
  "metadata": {
    "kernelspec": {
      "display_name": "Python 3",
      "language": "python",
      "name": "python3"
    },
    "language_info": {
      "codemirror_mode": {
        "name": "ipython",
        "version": 3
      },
      "file_extension": ".py",
      "mimetype": "text/x-python",
      "name": "python",
      "nbconvert_exporter": "python",
      "pygments_lexer": "ipython3",
      "version": "3.6.2"
    },
    "colab": {
      "name": "2_Python Data Structures.ipynb",
      "provenance": [],
      "include_colab_link": true
    }
  },
  "cells": [
    {
      "cell_type": "markdown",
      "metadata": {
        "id": "view-in-github",
        "colab_type": "text"
      },
      "source": [
        "<a href=\"https://colab.research.google.com/github/RahulKhandebharad/Applied-Data-Science-with-Python/blob/master/2_Python_Data_Structures.ipynb\" target=\"_parent\"><img src=\"https://colab.research.google.com/assets/colab-badge.svg\" alt=\"Open In Colab\"/></a>"
      ]
    },
    {
      "cell_type": "markdown",
      "metadata": {
        "id": "WIbWEGCERRGa",
        "colab_type": "text"
      },
      "source": [
        "# The Series Data Structure"
      ]
    },
    {
      "cell_type": "code",
      "metadata": {
        "id": "zaA4GFsGRRGe",
        "colab_type": "code",
        "colab": {}
      },
      "source": [
        "import pandas as pd\n",
        "pd.Series?"
      ],
      "execution_count": null,
      "outputs": []
    },
    {
      "cell_type": "code",
      "metadata": {
        "id": "dbKPC3UhRRGx",
        "colab_type": "code",
        "colab": {},
        "outputId": "d5a3b3e5-b3ad-4e9e-b8d8-430815c6cdbc"
      },
      "source": [
        "animals = ['Tiger', 'Bear', 'Moose']\n",
        "pd.Series(animals)"
      ],
      "execution_count": null,
      "outputs": [
        {
          "output_type": "execute_result",
          "data": {
            "text/plain": [
              "0    Tiger\n",
              "1     Bear\n",
              "2    Moose\n",
              "dtype: object"
            ]
          },
          "metadata": {
            "tags": []
          },
          "execution_count": 2
        }
      ]
    },
    {
      "cell_type": "code",
      "metadata": {
        "id": "dHMwuu_sRRHt",
        "colab_type": "code",
        "colab": {}
      },
      "source": [
        "numbers = [1, 2, 3]\n",
        "pd.Series(numbers)"
      ],
      "execution_count": null,
      "outputs": []
    },
    {
      "cell_type": "code",
      "metadata": {
        "id": "mD72RwgeRRH9",
        "colab_type": "code",
        "colab": {}
      },
      "source": [
        "animals = ['Tiger', 'Bear', None]\n",
        "pd.Series(animals)"
      ],
      "execution_count": null,
      "outputs": []
    },
    {
      "cell_type": "code",
      "metadata": {
        "id": "6QCRjD00RRIM",
        "colab_type": "code",
        "colab": {}
      },
      "source": [
        "numbers = [1, 2, None]\n",
        "pd.Series(numbers)"
      ],
      "execution_count": null,
      "outputs": []
    },
    {
      "cell_type": "code",
      "metadata": {
        "id": "3y5OwKReRRId",
        "colab_type": "code",
        "colab": {}
      },
      "source": [
        "import numpy as np\n",
        "np.nan == None"
      ],
      "execution_count": null,
      "outputs": []
    },
    {
      "cell_type": "code",
      "metadata": {
        "id": "Yw3VguWGRRIv",
        "colab_type": "code",
        "colab": {}
      },
      "source": [
        "np.nan == np.nan"
      ],
      "execution_count": null,
      "outputs": []
    },
    {
      "cell_type": "code",
      "metadata": {
        "id": "-BR0QndZRRJD",
        "colab_type": "code",
        "colab": {}
      },
      "source": [
        "np.isnan(np.nan)"
      ],
      "execution_count": null,
      "outputs": []
    },
    {
      "cell_type": "code",
      "metadata": {
        "id": "YOUdfXXRRRJP",
        "colab_type": "code",
        "colab": {}
      },
      "source": [
        "sports = {'Archery': 'Bhutan',\n",
        "          'Golf': 'Scotland',\n",
        "          'Sumo': 'Japan',\n",
        "          'Taekwondo': 'South Korea'}\n",
        "s = pd.Series(sports)\n",
        "s"
      ],
      "execution_count": null,
      "outputs": []
    },
    {
      "cell_type": "code",
      "metadata": {
        "id": "PRk3F1gORRJt",
        "colab_type": "code",
        "colab": {}
      },
      "source": [
        "s.index"
      ],
      "execution_count": null,
      "outputs": []
    },
    {
      "cell_type": "code",
      "metadata": {
        "id": "ty21tRbHRRJ5",
        "colab_type": "code",
        "colab": {}
      },
      "source": [
        "s = pd.Series(['Tiger', 'Bear', 'Moose'], index=['India', 'America', 'Canada'])\n",
        "s"
      ],
      "execution_count": null,
      "outputs": []
    },
    {
      "cell_type": "code",
      "metadata": {
        "id": "Pa68icp9RRKI",
        "colab_type": "code",
        "colab": {}
      },
      "source": [
        "sports = {'Archery': 'Bhutan',\n",
        "          'Golf': 'Scotland',\n",
        "          'Sumo': 'Japan',\n",
        "          'Taekwondo': 'South Korea'}\n",
        "s = pd.Series(sports, index=['Golf', 'Sumo', 'Hockey'])\n",
        "s"
      ],
      "execution_count": null,
      "outputs": []
    },
    {
      "cell_type": "markdown",
      "metadata": {
        "id": "rMTpEkcFRRKW",
        "colab_type": "text"
      },
      "source": [
        "# Querying a Series"
      ]
    },
    {
      "cell_type": "code",
      "metadata": {
        "id": "IkNTRqQARRKY",
        "colab_type": "code",
        "colab": {}
      },
      "source": [
        "sports = {'Archery': 'Bhutan',\n",
        "          'Golf': 'Scotland',\n",
        "          'Sumo': 'Japan',\n",
        "          'Taekwondo': 'South Korea'}\n",
        "s = pd.Series(sports)\n",
        "s"
      ],
      "execution_count": null,
      "outputs": []
    },
    {
      "cell_type": "code",
      "metadata": {
        "id": "bpKlTAUDRRKk",
        "colab_type": "code",
        "colab": {}
      },
      "source": [
        "s.iloc[3]"
      ],
      "execution_count": null,
      "outputs": []
    },
    {
      "cell_type": "code",
      "metadata": {
        "id": "iNZekojFRRKy",
        "colab_type": "code",
        "colab": {}
      },
      "source": [
        "s.loc['Golf']"
      ],
      "execution_count": null,
      "outputs": []
    },
    {
      "cell_type": "code",
      "metadata": {
        "id": "dnJFRjaqRRK-",
        "colab_type": "code",
        "colab": {}
      },
      "source": [
        "s[3]"
      ],
      "execution_count": null,
      "outputs": []
    },
    {
      "cell_type": "code",
      "metadata": {
        "id": "1phbqVlWRRLJ",
        "colab_type": "code",
        "colab": {}
      },
      "source": [
        "s['Golf']"
      ],
      "execution_count": null,
      "outputs": []
    },
    {
      "cell_type": "code",
      "metadata": {
        "id": "YTGJp7ooRRLV",
        "colab_type": "code",
        "colab": {}
      },
      "source": [
        "sports = {99: 'Bhutan',\n",
        "          100: 'Scotland',\n",
        "          101: 'Japan',\n",
        "          102: 'South Korea'}\n",
        "s = pd.Series(sports)"
      ],
      "execution_count": null,
      "outputs": []
    },
    {
      "cell_type": "code",
      "metadata": {
        "scrolled": true,
        "id": "FacFZPmnRRLi",
        "colab_type": "code",
        "colab": {}
      },
      "source": [
        "s[0] #This won't call s.iloc[0] as one might expect, it generates an error instead"
      ],
      "execution_count": null,
      "outputs": []
    },
    {
      "cell_type": "code",
      "metadata": {
        "id": "Sx6_bODiRRLv",
        "colab_type": "code",
        "colab": {}
      },
      "source": [
        "s = pd.Series([100.00, 120.00, 101.00, 3.00])\n",
        "s"
      ],
      "execution_count": null,
      "outputs": []
    },
    {
      "cell_type": "code",
      "metadata": {
        "id": "nMcnZRx8RRL6",
        "colab_type": "code",
        "colab": {}
      },
      "source": [
        "total = 0\n",
        "for item in s:\n",
        "    total+=item\n",
        "print(total)"
      ],
      "execution_count": null,
      "outputs": []
    },
    {
      "cell_type": "code",
      "metadata": {
        "id": "vwD_xo1iRRMG",
        "colab_type": "code",
        "colab": {}
      },
      "source": [
        "import numpy as np\n",
        "\n",
        "total = np.sum(s)\n",
        "print(total)"
      ],
      "execution_count": null,
      "outputs": []
    },
    {
      "cell_type": "code",
      "metadata": {
        "id": "jJPvQ5atRRMS",
        "colab_type": "code",
        "colab": {}
      },
      "source": [
        "#this creates a big series of random numbers\n",
        "s = pd.Series(np.random.randint(0,1000,10000))\n",
        "s.head()"
      ],
      "execution_count": null,
      "outputs": []
    },
    {
      "cell_type": "code",
      "metadata": {
        "id": "82V64wp0RRMh",
        "colab_type": "code",
        "colab": {}
      },
      "source": [
        "len(s)"
      ],
      "execution_count": null,
      "outputs": []
    },
    {
      "cell_type": "code",
      "metadata": {
        "id": "aXPCzc25RRMy",
        "colab_type": "code",
        "colab": {}
      },
      "source": [
        "%%timeit -n 100\n",
        "summary = 0\n",
        "for item in s:\n",
        "    summary+=item"
      ],
      "execution_count": null,
      "outputs": []
    },
    {
      "cell_type": "code",
      "metadata": {
        "id": "1sZCZbfPRRNG",
        "colab_type": "code",
        "colab": {}
      },
      "source": [
        "%%timeit -n 100\n",
        "summary = np.sum(s)"
      ],
      "execution_count": null,
      "outputs": []
    },
    {
      "cell_type": "code",
      "metadata": {
        "id": "Msi_RUt_RRNW",
        "colab_type": "code",
        "colab": {}
      },
      "source": [
        "s+=2 #adds two to each item in s using broadcasting\n",
        "s.head()"
      ],
      "execution_count": null,
      "outputs": []
    },
    {
      "cell_type": "code",
      "metadata": {
        "id": "X74IO-PZRRNg",
        "colab_type": "code",
        "colab": {}
      },
      "source": [
        "for label, value in s.iteritems():\n",
        "    s.set_value(label, value+2)\n",
        "s.head()"
      ],
      "execution_count": null,
      "outputs": []
    },
    {
      "cell_type": "code",
      "metadata": {
        "id": "q8ecdMO8RRNs",
        "colab_type": "code",
        "colab": {}
      },
      "source": [
        "%%timeit -n 10\n",
        "s = pd.Series(np.random.randint(0,1000,10000))\n",
        "for label, value in s.iteritems():\n",
        "    s.loc[label]= value+2"
      ],
      "execution_count": null,
      "outputs": []
    },
    {
      "cell_type": "code",
      "metadata": {
        "id": "G-PdxQUgRRN3",
        "colab_type": "code",
        "colab": {}
      },
      "source": [
        "%%timeit -n 10\n",
        "s = pd.Series(np.random.randint(0,1000,10000))\n",
        "s+=2\n"
      ],
      "execution_count": null,
      "outputs": []
    },
    {
      "cell_type": "code",
      "metadata": {
        "id": "5Tp_sF7iRROK",
        "colab_type": "code",
        "colab": {}
      },
      "source": [
        "s = pd.Series([1, 2, 3])\n",
        "s.loc['Animal'] = 'Bears'\n",
        "s"
      ],
      "execution_count": null,
      "outputs": []
    },
    {
      "cell_type": "code",
      "metadata": {
        "id": "1n0rCcZORROU",
        "colab_type": "code",
        "colab": {}
      },
      "source": [
        "original_sports = pd.Series({'Archery': 'Bhutan',\n",
        "                             'Golf': 'Scotland',\n",
        "                             'Sumo': 'Japan',\n",
        "                             'Taekwondo': 'South Korea'})\n",
        "cricket_loving_countries = pd.Series(['Australia',\n",
        "                                      'Barbados',\n",
        "                                      'Pakistan',\n",
        "                                      'England'], \n",
        "                                   index=['Cricket',\n",
        "                                          'Cricket',\n",
        "                                          'Cricket',\n",
        "                                          'Cricket'])\n",
        "all_countries = original_sports.append(cricket_loving_countries)"
      ],
      "execution_count": null,
      "outputs": []
    },
    {
      "cell_type": "code",
      "metadata": {
        "id": "osJ9JlyBRROg",
        "colab_type": "code",
        "colab": {}
      },
      "source": [
        "original_sports"
      ],
      "execution_count": null,
      "outputs": []
    },
    {
      "cell_type": "code",
      "metadata": {
        "id": "BTwspZ8fRROr",
        "colab_type": "code",
        "colab": {}
      },
      "source": [
        "cricket_loving_countries"
      ],
      "execution_count": null,
      "outputs": []
    },
    {
      "cell_type": "code",
      "metadata": {
        "id": "gwJiMhiYRRO1",
        "colab_type": "code",
        "colab": {}
      },
      "source": [
        "all_countries"
      ],
      "execution_count": null,
      "outputs": []
    },
    {
      "cell_type": "code",
      "metadata": {
        "id": "7ERaAhKYRRPA",
        "colab_type": "code",
        "colab": {}
      },
      "source": [
        "all_countries.loc['Cricket']"
      ],
      "execution_count": null,
      "outputs": []
    },
    {
      "cell_type": "markdown",
      "metadata": {
        "collapsed": true,
        "id": "9A1WX3XNRRPQ",
        "colab_type": "text"
      },
      "source": [
        "# The DataFrame Data Structure"
      ]
    },
    {
      "cell_type": "code",
      "metadata": {
        "id": "F5KOay5uRRPV",
        "colab_type": "code",
        "colab": {}
      },
      "source": [
        "import pandas as pd\n",
        "purchase_1 = pd.Series({'Name': 'Chris',\n",
        "                        'Item Purchased': 'Dog Food',\n",
        "                        'Cost': 22.50})\n",
        "purchase_2 = pd.Series({'Name': 'Kevyn',\n",
        "                        'Item Purchased': 'Kitty Litter',\n",
        "                        'Cost': 2.50})\n",
        "purchase_3 = pd.Series({'Name': 'Vinod',\n",
        "                        'Item Purchased': 'Bird Seed',\n",
        "                        'Cost': 5.00})\n",
        "df = pd.DataFrame([purchase_1, purchase_2, purchase_3], index=['Store 1', 'Store 1', 'Store 2'])\n",
        "df.head()"
      ],
      "execution_count": null,
      "outputs": []
    },
    {
      "cell_type": "code",
      "metadata": {
        "id": "VD3z86a6RRPj",
        "colab_type": "code",
        "colab": {}
      },
      "source": [
        "df.loc['Store 2']"
      ],
      "execution_count": null,
      "outputs": []
    },
    {
      "cell_type": "code",
      "metadata": {
        "id": "hdl-rk4jRRP2",
        "colab_type": "code",
        "colab": {}
      },
      "source": [
        "type(df.loc['Store 2'])"
      ],
      "execution_count": null,
      "outputs": []
    },
    {
      "cell_type": "code",
      "metadata": {
        "id": "gg1OrMgmRRQH",
        "colab_type": "code",
        "colab": {}
      },
      "source": [
        "df.loc['Store 1']"
      ],
      "execution_count": null,
      "outputs": []
    },
    {
      "cell_type": "code",
      "metadata": {
        "id": "wMt2bdHFRRQg",
        "colab_type": "code",
        "colab": {}
      },
      "source": [
        "df.loc['Store 1', 'Cost']"
      ],
      "execution_count": null,
      "outputs": []
    },
    {
      "cell_type": "code",
      "metadata": {
        "id": "QEfR6N1KRRQ-",
        "colab_type": "code",
        "colab": {}
      },
      "source": [
        "df.T"
      ],
      "execution_count": null,
      "outputs": []
    },
    {
      "cell_type": "code",
      "metadata": {
        "id": "MTaLgmhFRRRL",
        "colab_type": "code",
        "colab": {}
      },
      "source": [
        "df.T.loc['Cost']"
      ],
      "execution_count": null,
      "outputs": []
    },
    {
      "cell_type": "code",
      "metadata": {
        "id": "zvKgiq5oRRRg",
        "colab_type": "code",
        "colab": {}
      },
      "source": [
        "df['Cost']"
      ],
      "execution_count": null,
      "outputs": []
    },
    {
      "cell_type": "code",
      "metadata": {
        "id": "Yap0hYLDRRRx",
        "colab_type": "code",
        "colab": {}
      },
      "source": [
        "df.loc['Store 1']['Cost']"
      ],
      "execution_count": null,
      "outputs": []
    },
    {
      "cell_type": "code",
      "metadata": {
        "id": "wTIozZzYRRSG",
        "colab_type": "code",
        "colab": {}
      },
      "source": [
        "df.loc[:,['Name', 'Cost']]"
      ],
      "execution_count": null,
      "outputs": []
    },
    {
      "cell_type": "code",
      "metadata": {
        "id": "uxAgKfs_RRSW",
        "colab_type": "code",
        "colab": {}
      },
      "source": [
        "df.drop('Store 1')"
      ],
      "execution_count": null,
      "outputs": []
    },
    {
      "cell_type": "code",
      "metadata": {
        "id": "-9aO_X2kRRSf",
        "colab_type": "code",
        "colab": {}
      },
      "source": [
        "df"
      ],
      "execution_count": null,
      "outputs": []
    },
    {
      "cell_type": "code",
      "metadata": {
        "id": "RZ161kAfRRSs",
        "colab_type": "code",
        "colab": {}
      },
      "source": [
        "copy_df = df.copy()\n",
        "copy_df = copy_df.drop('Store 1')\n",
        "copy_df"
      ],
      "execution_count": null,
      "outputs": []
    },
    {
      "cell_type": "code",
      "metadata": {
        "id": "0gwhe4bhRRS4",
        "colab_type": "code",
        "colab": {}
      },
      "source": [
        "copy_df.drop?"
      ],
      "execution_count": null,
      "outputs": []
    },
    {
      "cell_type": "code",
      "metadata": {
        "id": "zbDImoMKRRTB",
        "colab_type": "code",
        "colab": {}
      },
      "source": [
        "del copy_df['Name']\n",
        "copy_df"
      ],
      "execution_count": null,
      "outputs": []
    },
    {
      "cell_type": "code",
      "metadata": {
        "id": "UiXm9GEpRRTP",
        "colab_type": "code",
        "colab": {}
      },
      "source": [
        "df['Location'] = None\n",
        "df"
      ],
      "execution_count": null,
      "outputs": []
    },
    {
      "cell_type": "markdown",
      "metadata": {
        "collapsed": true,
        "id": "MG34nlx3RRTp",
        "colab_type": "text"
      },
      "source": [
        "# Dataframe Indexing and Loading"
      ]
    },
    {
      "cell_type": "code",
      "metadata": {
        "id": "oEtbPM7LRRTz",
        "colab_type": "code",
        "colab": {}
      },
      "source": [
        "costs = df['Cost']\n",
        "costs"
      ],
      "execution_count": null,
      "outputs": []
    },
    {
      "cell_type": "code",
      "metadata": {
        "id": "B1BeEgXaRRT_",
        "colab_type": "code",
        "colab": {}
      },
      "source": [
        "costs+=2\n",
        "costs"
      ],
      "execution_count": null,
      "outputs": []
    },
    {
      "cell_type": "code",
      "metadata": {
        "id": "B6wEBRi0RRUR",
        "colab_type": "code",
        "colab": {}
      },
      "source": [
        "df"
      ],
      "execution_count": null,
      "outputs": []
    },
    {
      "cell_type": "code",
      "metadata": {
        "id": "GzS-sFd0RRUi",
        "colab_type": "code",
        "colab": {}
      },
      "source": [
        "!cat olympics.csv"
      ],
      "execution_count": null,
      "outputs": []
    },
    {
      "cell_type": "code",
      "metadata": {
        "id": "Rad5-rOcRRU_",
        "colab_type": "code",
        "colab": {}
      },
      "source": [
        "df = pd.read_csv('olympics.csv')\n",
        "df.head()"
      ],
      "execution_count": null,
      "outputs": []
    },
    {
      "cell_type": "code",
      "metadata": {
        "id": "0lqsrfMBRRVI",
        "colab_type": "code",
        "colab": {}
      },
      "source": [
        "df = pd.read_csv('olympics.csv', index_col = 0, skiprows=1)\n",
        "df.head()"
      ],
      "execution_count": null,
      "outputs": []
    },
    {
      "cell_type": "code",
      "metadata": {
        "id": "fqwgJjhSRRVU",
        "colab_type": "code",
        "colab": {}
      },
      "source": [
        "df.columns"
      ],
      "execution_count": null,
      "outputs": []
    },
    {
      "cell_type": "code",
      "metadata": {
        "id": "D-9kAwkpRRVh",
        "colab_type": "code",
        "colab": {}
      },
      "source": [
        "for col in df.columns:\n",
        "    if col[:2]=='01':\n",
        "        df.rename(columns={col:'Gold' + col[4:]}, inplace=True)\n",
        "    if col[:2]=='02':\n",
        "        df.rename(columns={col:'Silver' + col[4:]}, inplace=True)\n",
        "    if col[:2]=='03':\n",
        "        df.rename(columns={col:'Bronze' + col[4:]}, inplace=True)\n",
        "    if col[:1]=='№':\n",
        "        df.rename(columns={col:'#' + col[1:]}, inplace=True) \n",
        "\n",
        "df.head()"
      ],
      "execution_count": null,
      "outputs": []
    },
    {
      "cell_type": "markdown",
      "metadata": {
        "id": "QVsUaj7iRRVr",
        "colab_type": "text"
      },
      "source": [
        "# Querying a DataFrame"
      ]
    },
    {
      "cell_type": "code",
      "metadata": {
        "id": "GrtzismhRRVu",
        "colab_type": "code",
        "colab": {}
      },
      "source": [
        "df['Gold'] > 0"
      ],
      "execution_count": null,
      "outputs": []
    },
    {
      "cell_type": "code",
      "metadata": {
        "id": "YXRVsz7aRRV5",
        "colab_type": "code",
        "colab": {}
      },
      "source": [
        "only_gold = df.where(df['Gold'] > 0)\n",
        "only_gold.head()"
      ],
      "execution_count": null,
      "outputs": []
    },
    {
      "cell_type": "code",
      "metadata": {
        "id": "zrbDTMf_RRWF",
        "colab_type": "code",
        "colab": {}
      },
      "source": [
        "only_gold['Gold'].count()"
      ],
      "execution_count": null,
      "outputs": []
    },
    {
      "cell_type": "code",
      "metadata": {
        "id": "Z7KyiJu7RRWN",
        "colab_type": "code",
        "colab": {}
      },
      "source": [
        "df['Gold'].count()"
      ],
      "execution_count": null,
      "outputs": []
    },
    {
      "cell_type": "code",
      "metadata": {
        "id": "ycBW5GA9RRWX",
        "colab_type": "code",
        "colab": {}
      },
      "source": [
        "only_gold = only_gold.dropna()\n",
        "only_gold.head()"
      ],
      "execution_count": null,
      "outputs": []
    },
    {
      "cell_type": "code",
      "metadata": {
        "id": "5YvwT5SzRRWj",
        "colab_type": "code",
        "colab": {}
      },
      "source": [
        "only_gold = df[df['Gold'] > 0]\n",
        "only_gold.head()"
      ],
      "execution_count": null,
      "outputs": []
    },
    {
      "cell_type": "code",
      "metadata": {
        "id": "ruBW6bSRRRWq",
        "colab_type": "code",
        "colab": {}
      },
      "source": [
        "len(df[(df['Gold'] > 0) | (df['Gold.1'] > 0)])"
      ],
      "execution_count": null,
      "outputs": []
    },
    {
      "cell_type": "code",
      "metadata": {
        "id": "UxEuBCYyRRWz",
        "colab_type": "code",
        "colab": {}
      },
      "source": [
        "df[(df['Gold.1'] > 0) & (df['Gold'] == 0)]"
      ],
      "execution_count": null,
      "outputs": []
    },
    {
      "cell_type": "markdown",
      "metadata": {
        "id": "yyAG_OTPRRW8",
        "colab_type": "text"
      },
      "source": [
        "# Indexing Dataframes"
      ]
    },
    {
      "cell_type": "code",
      "metadata": {
        "id": "RJn8EWLoRRW-",
        "colab_type": "code",
        "colab": {}
      },
      "source": [
        "df.head()"
      ],
      "execution_count": null,
      "outputs": []
    },
    {
      "cell_type": "code",
      "metadata": {
        "id": "YKep9cuCRRXS",
        "colab_type": "code",
        "colab": {}
      },
      "source": [
        "df['country'] = df.index\n",
        "df = df.set_index('Gold')\n",
        "df.head()"
      ],
      "execution_count": null,
      "outputs": []
    },
    {
      "cell_type": "code",
      "metadata": {
        "id": "SRg4_8pQRRXa",
        "colab_type": "code",
        "colab": {}
      },
      "source": [
        "df = df.reset_index()\n",
        "df.head()"
      ],
      "execution_count": null,
      "outputs": []
    },
    {
      "cell_type": "code",
      "metadata": {
        "id": "PIF7MKBiRRXr",
        "colab_type": "code",
        "colab": {}
      },
      "source": [
        "df = pd.read_csv('census.csv')\n",
        "df.head()"
      ],
      "execution_count": null,
      "outputs": []
    },
    {
      "cell_type": "code",
      "metadata": {
        "id": "Ih4_HE4RRRX2",
        "colab_type": "code",
        "colab": {}
      },
      "source": [
        "df['SUMLEV'].unique()"
      ],
      "execution_count": null,
      "outputs": []
    },
    {
      "cell_type": "code",
      "metadata": {
        "id": "v8tdHZSERRX-",
        "colab_type": "code",
        "colab": {}
      },
      "source": [
        "df=df[df['SUMLEV'] == 50]\n",
        "df.head()"
      ],
      "execution_count": null,
      "outputs": []
    },
    {
      "cell_type": "code",
      "metadata": {
        "id": "Lo2Zcr0gRRYI",
        "colab_type": "code",
        "colab": {}
      },
      "source": [
        "columns_to_keep = ['STNAME',\n",
        "                   'CTYNAME',\n",
        "                   'BIRTHS2010',\n",
        "                   'BIRTHS2011',\n",
        "                   'BIRTHS2012',\n",
        "                   'BIRTHS2013',\n",
        "                   'BIRTHS2014',\n",
        "                   'BIRTHS2015',\n",
        "                   'POPESTIMATE2010',\n",
        "                   'POPESTIMATE2011',\n",
        "                   'POPESTIMATE2012',\n",
        "                   'POPESTIMATE2013',\n",
        "                   'POPESTIMATE2014',\n",
        "                   'POPESTIMATE2015']\n",
        "df = df[columns_to_keep]\n",
        "df.head()"
      ],
      "execution_count": null,
      "outputs": []
    },
    {
      "cell_type": "code",
      "metadata": {
        "id": "6UAO6s-LRRYY",
        "colab_type": "code",
        "colab": {}
      },
      "source": [
        "df = df.set_index(['STNAME', 'CTYNAME'])\n",
        "df.head()"
      ],
      "execution_count": null,
      "outputs": []
    },
    {
      "cell_type": "code",
      "metadata": {
        "id": "RTE4ZpTxRRYp",
        "colab_type": "code",
        "colab": {}
      },
      "source": [
        "df.loc['Michigan', 'Washtenaw County']"
      ],
      "execution_count": null,
      "outputs": []
    },
    {
      "cell_type": "code",
      "metadata": {
        "id": "SF6L6tY3RRY_",
        "colab_type": "code",
        "colab": {}
      },
      "source": [
        "df.loc[ [('Michigan', 'Washtenaw County'),\n",
        "         ('Michigan', 'Wayne County')] ]"
      ],
      "execution_count": null,
      "outputs": []
    },
    {
      "cell_type": "markdown",
      "metadata": {
        "id": "DT2Fq0XyRRZJ",
        "colab_type": "text"
      },
      "source": [
        "# Missing values"
      ]
    },
    {
      "cell_type": "code",
      "metadata": {
        "id": "h8l-fyCURRZL",
        "colab_type": "code",
        "colab": {},
        "outputId": "43ac2b54-fcb1-424a-ca37-ebc64f5867a4"
      },
      "source": [
        "df = pd.read_csv('log.csv')\n",
        "df"
      ],
      "execution_count": null,
      "outputs": [
        {
          "output_type": "execute_result",
          "data": {
            "text/html": [
              "<div>\n",
              "<table border=\"1\" class=\"dataframe\">\n",
              "  <thead>\n",
              "    <tr style=\"text-align: right;\">\n",
              "      <th></th>\n",
              "      <th>time</th>\n",
              "      <th>user</th>\n",
              "      <th>video</th>\n",
              "      <th>playback position</th>\n",
              "      <th>paused</th>\n",
              "      <th>volume</th>\n",
              "    </tr>\n",
              "  </thead>\n",
              "  <tbody>\n",
              "    <tr>\n",
              "      <th>0</th>\n",
              "      <td>1469974424</td>\n",
              "      <td>cheryl</td>\n",
              "      <td>intro.html</td>\n",
              "      <td>5</td>\n",
              "      <td>False</td>\n",
              "      <td>10.0</td>\n",
              "    </tr>\n",
              "    <tr>\n",
              "      <th>1</th>\n",
              "      <td>1469974454</td>\n",
              "      <td>cheryl</td>\n",
              "      <td>intro.html</td>\n",
              "      <td>6</td>\n",
              "      <td>NaN</td>\n",
              "      <td>NaN</td>\n",
              "    </tr>\n",
              "    <tr>\n",
              "      <th>2</th>\n",
              "      <td>1469974544</td>\n",
              "      <td>cheryl</td>\n",
              "      <td>intro.html</td>\n",
              "      <td>9</td>\n",
              "      <td>NaN</td>\n",
              "      <td>NaN</td>\n",
              "    </tr>\n",
              "    <tr>\n",
              "      <th>3</th>\n",
              "      <td>1469974574</td>\n",
              "      <td>cheryl</td>\n",
              "      <td>intro.html</td>\n",
              "      <td>10</td>\n",
              "      <td>NaN</td>\n",
              "      <td>NaN</td>\n",
              "    </tr>\n",
              "    <tr>\n",
              "      <th>4</th>\n",
              "      <td>1469977514</td>\n",
              "      <td>bob</td>\n",
              "      <td>intro.html</td>\n",
              "      <td>1</td>\n",
              "      <td>NaN</td>\n",
              "      <td>NaN</td>\n",
              "    </tr>\n",
              "    <tr>\n",
              "      <th>5</th>\n",
              "      <td>1469977544</td>\n",
              "      <td>bob</td>\n",
              "      <td>intro.html</td>\n",
              "      <td>1</td>\n",
              "      <td>NaN</td>\n",
              "      <td>NaN</td>\n",
              "    </tr>\n",
              "    <tr>\n",
              "      <th>6</th>\n",
              "      <td>1469977574</td>\n",
              "      <td>bob</td>\n",
              "      <td>intro.html</td>\n",
              "      <td>1</td>\n",
              "      <td>NaN</td>\n",
              "      <td>NaN</td>\n",
              "    </tr>\n",
              "    <tr>\n",
              "      <th>7</th>\n",
              "      <td>1469977604</td>\n",
              "      <td>bob</td>\n",
              "      <td>intro.html</td>\n",
              "      <td>1</td>\n",
              "      <td>NaN</td>\n",
              "      <td>NaN</td>\n",
              "    </tr>\n",
              "    <tr>\n",
              "      <th>8</th>\n",
              "      <td>1469974604</td>\n",
              "      <td>cheryl</td>\n",
              "      <td>intro.html</td>\n",
              "      <td>11</td>\n",
              "      <td>NaN</td>\n",
              "      <td>NaN</td>\n",
              "    </tr>\n",
              "    <tr>\n",
              "      <th>9</th>\n",
              "      <td>1469974694</td>\n",
              "      <td>cheryl</td>\n",
              "      <td>intro.html</td>\n",
              "      <td>14</td>\n",
              "      <td>NaN</td>\n",
              "      <td>NaN</td>\n",
              "    </tr>\n",
              "    <tr>\n",
              "      <th>10</th>\n",
              "      <td>1469974724</td>\n",
              "      <td>cheryl</td>\n",
              "      <td>intro.html</td>\n",
              "      <td>15</td>\n",
              "      <td>NaN</td>\n",
              "      <td>NaN</td>\n",
              "    </tr>\n",
              "    <tr>\n",
              "      <th>11</th>\n",
              "      <td>1469974454</td>\n",
              "      <td>sue</td>\n",
              "      <td>advanced.html</td>\n",
              "      <td>24</td>\n",
              "      <td>NaN</td>\n",
              "      <td>NaN</td>\n",
              "    </tr>\n",
              "    <tr>\n",
              "      <th>12</th>\n",
              "      <td>1469974524</td>\n",
              "      <td>sue</td>\n",
              "      <td>advanced.html</td>\n",
              "      <td>25</td>\n",
              "      <td>NaN</td>\n",
              "      <td>NaN</td>\n",
              "    </tr>\n",
              "    <tr>\n",
              "      <th>13</th>\n",
              "      <td>1469974424</td>\n",
              "      <td>sue</td>\n",
              "      <td>advanced.html</td>\n",
              "      <td>23</td>\n",
              "      <td>False</td>\n",
              "      <td>10.0</td>\n",
              "    </tr>\n",
              "    <tr>\n",
              "      <th>14</th>\n",
              "      <td>1469974554</td>\n",
              "      <td>sue</td>\n",
              "      <td>advanced.html</td>\n",
              "      <td>26</td>\n",
              "      <td>NaN</td>\n",
              "      <td>NaN</td>\n",
              "    </tr>\n",
              "    <tr>\n",
              "      <th>15</th>\n",
              "      <td>1469974624</td>\n",
              "      <td>sue</td>\n",
              "      <td>advanced.html</td>\n",
              "      <td>27</td>\n",
              "      <td>NaN</td>\n",
              "      <td>NaN</td>\n",
              "    </tr>\n",
              "    <tr>\n",
              "      <th>16</th>\n",
              "      <td>1469974654</td>\n",
              "      <td>sue</td>\n",
              "      <td>advanced.html</td>\n",
              "      <td>28</td>\n",
              "      <td>NaN</td>\n",
              "      <td>5.0</td>\n",
              "    </tr>\n",
              "    <tr>\n",
              "      <th>17</th>\n",
              "      <td>1469974724</td>\n",
              "      <td>sue</td>\n",
              "      <td>advanced.html</td>\n",
              "      <td>29</td>\n",
              "      <td>NaN</td>\n",
              "      <td>NaN</td>\n",
              "    </tr>\n",
              "    <tr>\n",
              "      <th>18</th>\n",
              "      <td>1469974484</td>\n",
              "      <td>cheryl</td>\n",
              "      <td>intro.html</td>\n",
              "      <td>7</td>\n",
              "      <td>NaN</td>\n",
              "      <td>NaN</td>\n",
              "    </tr>\n",
              "    <tr>\n",
              "      <th>19</th>\n",
              "      <td>1469974514</td>\n",
              "      <td>cheryl</td>\n",
              "      <td>intro.html</td>\n",
              "      <td>8</td>\n",
              "      <td>NaN</td>\n",
              "      <td>NaN</td>\n",
              "    </tr>\n",
              "    <tr>\n",
              "      <th>20</th>\n",
              "      <td>1469974754</td>\n",
              "      <td>sue</td>\n",
              "      <td>advanced.html</td>\n",
              "      <td>30</td>\n",
              "      <td>NaN</td>\n",
              "      <td>NaN</td>\n",
              "    </tr>\n",
              "    <tr>\n",
              "      <th>21</th>\n",
              "      <td>1469974824</td>\n",
              "      <td>sue</td>\n",
              "      <td>advanced.html</td>\n",
              "      <td>31</td>\n",
              "      <td>NaN</td>\n",
              "      <td>NaN</td>\n",
              "    </tr>\n",
              "    <tr>\n",
              "      <th>22</th>\n",
              "      <td>1469974854</td>\n",
              "      <td>sue</td>\n",
              "      <td>advanced.html</td>\n",
              "      <td>32</td>\n",
              "      <td>NaN</td>\n",
              "      <td>NaN</td>\n",
              "    </tr>\n",
              "    <tr>\n",
              "      <th>23</th>\n",
              "      <td>1469974924</td>\n",
              "      <td>sue</td>\n",
              "      <td>advanced.html</td>\n",
              "      <td>33</td>\n",
              "      <td>NaN</td>\n",
              "      <td>NaN</td>\n",
              "    </tr>\n",
              "    <tr>\n",
              "      <th>24</th>\n",
              "      <td>1469977424</td>\n",
              "      <td>bob</td>\n",
              "      <td>intro.html</td>\n",
              "      <td>1</td>\n",
              "      <td>True</td>\n",
              "      <td>10.0</td>\n",
              "    </tr>\n",
              "    <tr>\n",
              "      <th>25</th>\n",
              "      <td>1469977454</td>\n",
              "      <td>bob</td>\n",
              "      <td>intro.html</td>\n",
              "      <td>1</td>\n",
              "      <td>NaN</td>\n",
              "      <td>NaN</td>\n",
              "    </tr>\n",
              "    <tr>\n",
              "      <th>26</th>\n",
              "      <td>1469977484</td>\n",
              "      <td>bob</td>\n",
              "      <td>intro.html</td>\n",
              "      <td>1</td>\n",
              "      <td>NaN</td>\n",
              "      <td>NaN</td>\n",
              "    </tr>\n",
              "    <tr>\n",
              "      <th>27</th>\n",
              "      <td>1469977634</td>\n",
              "      <td>bob</td>\n",
              "      <td>intro.html</td>\n",
              "      <td>1</td>\n",
              "      <td>NaN</td>\n",
              "      <td>NaN</td>\n",
              "    </tr>\n",
              "    <tr>\n",
              "      <th>28</th>\n",
              "      <td>1469977664</td>\n",
              "      <td>bob</td>\n",
              "      <td>intro.html</td>\n",
              "      <td>1</td>\n",
              "      <td>NaN</td>\n",
              "      <td>NaN</td>\n",
              "    </tr>\n",
              "    <tr>\n",
              "      <th>29</th>\n",
              "      <td>1469974634</td>\n",
              "      <td>cheryl</td>\n",
              "      <td>intro.html</td>\n",
              "      <td>12</td>\n",
              "      <td>NaN</td>\n",
              "      <td>NaN</td>\n",
              "    </tr>\n",
              "    <tr>\n",
              "      <th>30</th>\n",
              "      <td>1469974664</td>\n",
              "      <td>cheryl</td>\n",
              "      <td>intro.html</td>\n",
              "      <td>13</td>\n",
              "      <td>NaN</td>\n",
              "      <td>NaN</td>\n",
              "    </tr>\n",
              "    <tr>\n",
              "      <th>31</th>\n",
              "      <td>1469977694</td>\n",
              "      <td>bob</td>\n",
              "      <td>intro.html</td>\n",
              "      <td>1</td>\n",
              "      <td>NaN</td>\n",
              "      <td>NaN</td>\n",
              "    </tr>\n",
              "    <tr>\n",
              "      <th>32</th>\n",
              "      <td>1469977724</td>\n",
              "      <td>bob</td>\n",
              "      <td>intro.html</td>\n",
              "      <td>1</td>\n",
              "      <td>NaN</td>\n",
              "      <td>NaN</td>\n",
              "    </tr>\n",
              "  </tbody>\n",
              "</table>\n",
              "</div>"
            ],
            "text/plain": [
              "          time    user          video  playback position paused  volume\n",
              "0   1469974424  cheryl     intro.html                  5  False    10.0\n",
              "1   1469974454  cheryl     intro.html                  6    NaN     NaN\n",
              "2   1469974544  cheryl     intro.html                  9    NaN     NaN\n",
              "3   1469974574  cheryl     intro.html                 10    NaN     NaN\n",
              "4   1469977514     bob     intro.html                  1    NaN     NaN\n",
              "5   1469977544     bob     intro.html                  1    NaN     NaN\n",
              "6   1469977574     bob     intro.html                  1    NaN     NaN\n",
              "7   1469977604     bob     intro.html                  1    NaN     NaN\n",
              "8   1469974604  cheryl     intro.html                 11    NaN     NaN\n",
              "9   1469974694  cheryl     intro.html                 14    NaN     NaN\n",
              "10  1469974724  cheryl     intro.html                 15    NaN     NaN\n",
              "11  1469974454     sue  advanced.html                 24    NaN     NaN\n",
              "12  1469974524     sue  advanced.html                 25    NaN     NaN\n",
              "13  1469974424     sue  advanced.html                 23  False    10.0\n",
              "14  1469974554     sue  advanced.html                 26    NaN     NaN\n",
              "15  1469974624     sue  advanced.html                 27    NaN     NaN\n",
              "16  1469974654     sue  advanced.html                 28    NaN     5.0\n",
              "17  1469974724     sue  advanced.html                 29    NaN     NaN\n",
              "18  1469974484  cheryl     intro.html                  7    NaN     NaN\n",
              "19  1469974514  cheryl     intro.html                  8    NaN     NaN\n",
              "20  1469974754     sue  advanced.html                 30    NaN     NaN\n",
              "21  1469974824     sue  advanced.html                 31    NaN     NaN\n",
              "22  1469974854     sue  advanced.html                 32    NaN     NaN\n",
              "23  1469974924     sue  advanced.html                 33    NaN     NaN\n",
              "24  1469977424     bob     intro.html                  1   True    10.0\n",
              "25  1469977454     bob     intro.html                  1    NaN     NaN\n",
              "26  1469977484     bob     intro.html                  1    NaN     NaN\n",
              "27  1469977634     bob     intro.html                  1    NaN     NaN\n",
              "28  1469977664     bob     intro.html                  1    NaN     NaN\n",
              "29  1469974634  cheryl     intro.html                 12    NaN     NaN\n",
              "30  1469974664  cheryl     intro.html                 13    NaN     NaN\n",
              "31  1469977694     bob     intro.html                  1    NaN     NaN\n",
              "32  1469977724     bob     intro.html                  1    NaN     NaN"
            ]
          },
          "metadata": {
            "tags": []
          },
          "execution_count": 3
        }
      ]
    },
    {
      "cell_type": "code",
      "metadata": {
        "id": "RoXbEoDlRRZT",
        "colab_type": "code",
        "colab": {}
      },
      "source": [
        "df.fillna?"
      ],
      "execution_count": null,
      "outputs": []
    },
    {
      "cell_type": "code",
      "metadata": {
        "id": "ww8x056oRRZb",
        "colab_type": "code",
        "colab": {}
      },
      "source": [
        "df = df.set_index('time')\n",
        "df = df.sort_index()\n",
        "df"
      ],
      "execution_count": null,
      "outputs": []
    },
    {
      "cell_type": "code",
      "metadata": {
        "id": "7C5SK2Y8RRZi",
        "colab_type": "code",
        "colab": {}
      },
      "source": [
        "df = df.reset_index()\n",
        "df = df.set_index(['time', 'user'])\n",
        "df"
      ],
      "execution_count": null,
      "outputs": []
    },
    {
      "cell_type": "code",
      "metadata": {
        "id": "XutoNsvURRZ-",
        "colab_type": "code",
        "colab": {}
      },
      "source": [
        "df = df.fillna(method='ffill')\n",
        "df.head()"
      ],
      "execution_count": null,
      "outputs": []
    }
  ]
}