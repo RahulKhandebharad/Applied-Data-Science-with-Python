{
  "nbformat": 4,
  "nbformat_minor": 0,
  "metadata": {
    "kernelspec": {
      "display_name": "Python 3",
      "language": "python",
      "name": "python3"
    },
    "language_info": {
      "codemirror_mode": {
        "name": "ipython",
        "version": 3
      },
      "file_extension": ".py",
      "mimetype": "text/x-python",
      "name": "python",
      "nbconvert_exporter": "python",
      "pygments_lexer": "ipython3",
      "version": "3.6.2"
    },
    "colab": {
      "name": "4_Distribution_in_Pandas.ipynb",
      "provenance": [],
      "include_colab_link": true
    }
  },
  "cells": [
    {
      "cell_type": "markdown",
      "metadata": {
        "id": "view-in-github",
        "colab_type": "text"
      },
      "source": [
        "<a href=\"https://colab.research.google.com/github/RahulKhandebharad/Applied-Data-Science-with-Python/blob/master/4_Distribution_in_Pandas.ipynb\" target=\"_parent\"><img src=\"https://colab.research.google.com/assets/colab-badge.svg\" alt=\"Open In Colab\"/></a>"
      ]
    },
    {
      "cell_type": "markdown",
      "metadata": {
        "id": "PN2QQZp8MXwp",
        "colab_type": "text"
      },
      "source": [
        "# Distributions in Pandas"
      ]
    },
    {
      "cell_type": "code",
      "metadata": {
        "id": "Hxc9JmV_MXws",
        "colab_type": "code",
        "colab": {}
      },
      "source": [
        "import pandas as pd\n",
        "import numpy as np"
      ],
      "execution_count": null,
      "outputs": []
    },
    {
      "cell_type": "code",
      "metadata": {
        "id": "siHA-BEjMXw3",
        "colab_type": "code",
        "colab": {
          "base_uri": "https://localhost:8080/",
          "height": 34
        },
        "outputId": "ea38339f-62ce-411e-afc9-8b0f5926cf70"
      },
      "source": [
        "np.random.binomial(1, 0.5)"
      ],
      "execution_count": null,
      "outputs": [
        {
          "output_type": "execute_result",
          "data": {
            "text/plain": [
              "1"
            ]
          },
          "metadata": {
            "tags": []
          },
          "execution_count": 17
        }
      ]
    },
    {
      "cell_type": "code",
      "metadata": {
        "id": "3a5eXN26MXxD",
        "colab_type": "code",
        "colab": {
          "base_uri": "https://localhost:8080/",
          "height": 34
        },
        "outputId": "a0b28687-95c0-4c21-b09e-adbc77c8ce3d"
      },
      "source": [
        "np.random.binomial(1000, 0.5)/1000"
      ],
      "execution_count": null,
      "outputs": [
        {
          "output_type": "execute_result",
          "data": {
            "text/plain": [
              "0.511"
            ]
          },
          "metadata": {
            "tags": []
          },
          "execution_count": 3
        }
      ]
    },
    {
      "cell_type": "code",
      "metadata": {
        "id": "4Ww4JhfoMXxO",
        "colab_type": "code",
        "colab": {
          "base_uri": "https://localhost:8080/",
          "height": 34
        },
        "outputId": "c41a6d4c-7166-4819-d7dd-8cf10bf696b8"
      },
      "source": [
        "chance_of_tornado = 0.01/100\n",
        "np.random.binomial(100000, chance_of_tornado)"
      ],
      "execution_count": null,
      "outputs": [
        {
          "output_type": "execute_result",
          "data": {
            "text/plain": [
              "12"
            ]
          },
          "metadata": {
            "tags": []
          },
          "execution_count": 4
        }
      ]
    },
    {
      "cell_type": "code",
      "metadata": {
        "id": "Q_H2T6LvMXxY",
        "colab_type": "code",
        "colab": {
          "base_uri": "https://localhost:8080/",
          "height": 34
        },
        "outputId": "7d9623d6-59d8-42a1-d7c6-9b1f99c3bd54"
      },
      "source": [
        "chance_of_tornado = 0.01\n",
        "\n",
        "tornado_events = np.random.binomial(1, chance_of_tornado, 1000000)\n",
        "    \n",
        "two_days_in_a_row = 0\n",
        "for j in range(1,len(tornado_events)-1):\n",
        "    if tornado_events[j]==1 and tornado_events[j-1]==1:\n",
        "        two_days_in_a_row+=1\n",
        "\n",
        "print('{} tornadoes back to back in {} years'.format(two_days_in_a_row, 1000000/365))"
      ],
      "execution_count": null,
      "outputs": [
        {
          "output_type": "stream",
          "text": [
            "105 tornadoes back to back in 2739.72602739726 years\n"
          ],
          "name": "stdout"
        }
      ]
    },
    {
      "cell_type": "code",
      "metadata": {
        "id": "2jgGutN9MXxm",
        "colab_type": "code",
        "colab": {
          "base_uri": "https://localhost:8080/",
          "height": 34
        },
        "outputId": "41bf66a8-0ef4-423b-d4b8-bfc5eae49f5c"
      },
      "source": [
        "np.random.uniform(0, 1)"
      ],
      "execution_count": null,
      "outputs": [
        {
          "output_type": "execute_result",
          "data": {
            "text/plain": [
              "0.509109803720991"
            ]
          },
          "metadata": {
            "tags": []
          },
          "execution_count": 6
        }
      ]
    },
    {
      "cell_type": "code",
      "metadata": {
        "id": "FtovxCwwMXxx",
        "colab_type": "code",
        "colab": {
          "base_uri": "https://localhost:8080/",
          "height": 34
        },
        "outputId": "9b8b0cc5-9c63-4676-baea-c228600c5250"
      },
      "source": [
        "np.random.normal(0.75)"
      ],
      "execution_count": null,
      "outputs": [
        {
          "output_type": "execute_result",
          "data": {
            "text/plain": [
              "2.018181850558208"
            ]
          },
          "metadata": {
            "tags": []
          },
          "execution_count": 7
        }
      ]
    },
    {
      "cell_type": "markdown",
      "metadata": {
        "id": "F0VtxddvMXyB",
        "colab_type": "text"
      },
      "source": [
        "Formula for standard deviation\n",
        "$$\\sqrt{\\frac{1}{N} \\sum_{i=1}^N (x_i - \\overline{x})^2}$$"
      ]
    },
    {
      "cell_type": "code",
      "metadata": {
        "id": "jBgg9FrMMXyD",
        "colab_type": "code",
        "colab": {
          "base_uri": "https://localhost:8080/",
          "height": 34
        },
        "outputId": "05743286-7cef-4f5d-a3ec-bd65cf48a505"
      },
      "source": [
        "distribution = np.random.normal(0.75,size=1000)\n",
        "\n",
        "np.sqrt(np.sum((np.mean(distribution)-distribution)**2)/len(distribution))"
      ],
      "execution_count": null,
      "outputs": [
        {
          "output_type": "execute_result",
          "data": {
            "text/plain": [
              "0.9850303643521024"
            ]
          },
          "metadata": {
            "tags": []
          },
          "execution_count": 8
        }
      ]
    },
    {
      "cell_type": "code",
      "metadata": {
        "scrolled": true,
        "id": "qBzl563JMXyN",
        "colab_type": "code",
        "colab": {
          "base_uri": "https://localhost:8080/",
          "height": 34
        },
        "outputId": "3ce765cb-d74f-41ed-86f3-a6fbc4674c61"
      },
      "source": [
        "np.std(distribution)"
      ],
      "execution_count": null,
      "outputs": [
        {
          "output_type": "execute_result",
          "data": {
            "text/plain": [
              "0.9850303643521024"
            ]
          },
          "metadata": {
            "tags": []
          },
          "execution_count": 9
        }
      ]
    },
    {
      "cell_type": "code",
      "metadata": {
        "id": "u2GTothFMXyX",
        "colab_type": "code",
        "colab": {
          "base_uri": "https://localhost:8080/",
          "height": 34
        },
        "outputId": "ee63614a-2e4b-4f4a-eee9-fef8b9b2e77d"
      },
      "source": [
        "import scipy.stats as stats\n",
        "stats.kurtosis(distribution)"
      ],
      "execution_count": null,
      "outputs": [
        {
          "output_type": "execute_result",
          "data": {
            "text/plain": [
              "0.19457988024029182"
            ]
          },
          "metadata": {
            "tags": []
          },
          "execution_count": 10
        }
      ]
    },
    {
      "cell_type": "code",
      "metadata": {
        "id": "Ek54ZsY1MXyg",
        "colab_type": "code",
        "colab": {
          "base_uri": "https://localhost:8080/",
          "height": 34
        },
        "outputId": "e1072089-3ad0-425d-9a93-f5035668d4ef"
      },
      "source": [
        "stats.skew(distribution)"
      ],
      "execution_count": null,
      "outputs": [
        {
          "output_type": "execute_result",
          "data": {
            "text/plain": [
              "-0.03598527504014396"
            ]
          },
          "metadata": {
            "tags": []
          },
          "execution_count": 11
        }
      ]
    },
    {
      "cell_type": "code",
      "metadata": {
        "id": "hDahge66MXyt",
        "colab_type": "code",
        "colab": {
          "base_uri": "https://localhost:8080/",
          "height": 34
        },
        "outputId": "ac349e77-2350-42f2-a4d0-942c3b1b4ab0"
      },
      "source": [
        "chi_squared_df2 = np.random.chisquare(2, size=10000)\n",
        "stats.skew(chi_squared_df2)"
      ],
      "execution_count": null,
      "outputs": [
        {
          "output_type": "execute_result",
          "data": {
            "text/plain": [
              "1.9514863967097065"
            ]
          },
          "metadata": {
            "tags": []
          },
          "execution_count": 12
        }
      ]
    },
    {
      "cell_type": "code",
      "metadata": {
        "id": "zz4mw0qhMXy6",
        "colab_type": "code",
        "colab": {
          "base_uri": "https://localhost:8080/",
          "height": 34
        },
        "outputId": "f8303634-6cf4-4e40-c19c-ff25f4cad5d1"
      },
      "source": [
        "chi_squared_df5 = np.random.chisquare(5, size=10000)\n",
        "stats.skew(chi_squared_df5)"
      ],
      "execution_count": null,
      "outputs": [
        {
          "output_type": "execute_result",
          "data": {
            "text/plain": [
              "1.20779035202328"
            ]
          },
          "metadata": {
            "tags": []
          },
          "execution_count": 13
        }
      ]
    },
    {
      "cell_type": "code",
      "metadata": {
        "id": "DULmjsOTMXzE",
        "colab_type": "code",
        "colab": {
          "base_uri": "https://localhost:8080/",
          "height": 282
        },
        "outputId": "5c8a5740-56f2-4618-af12-c2868a672f49"
      },
      "source": [
        "%matplotlib inline\n",
        "import matplotlib\n",
        "import matplotlib.pyplot as plt\n",
        "\n",
        "output = plt.hist([chi_squared_df2,chi_squared_df5], bins=50, histtype='step', \n",
        "                  label=['2 degrees of freedom','5 degrees of freedom'])\n",
        "plt.legend(loc='upper right')\n"
      ],
      "execution_count": null,
      "outputs": [
        {
          "output_type": "execute_result",
          "data": {
            "text/plain": [
              "<matplotlib.legend.Legend at 0x7fd97fa2db38>"
            ]
          },
          "metadata": {
            "tags": []
          },
          "execution_count": 14
        },
        {
          "output_type": "display_data",
          "data": {
            "image/png": "[encoded data removed]",
            "text/plain": [
              "<Figure size 432x288 with 1 Axes>"
            ]
          },
          "metadata": {
            "tags": [],
            "needs_background": "light"
          }
        }
      ]
    },
    {
      "cell_type": "markdown",
      "metadata": {
        "id": "i8fVhAV-MXzN",
        "colab_type": "text"
      },
      "source": [
        "# Hypothesis Testing"
      ]
    },
    {
      "cell_type": "code",
      "metadata": {
        "id": "GUPivQFcMXzP",
        "colab_type": "code",
        "colab": {}
      },
      "source": [
        "df = pd.read_csv('grades.csv')"
      ],
      "execution_count": null,
      "outputs": []
    },
    {
      "cell_type": "code",
      "metadata": {
        "id": "x9eLquHZMXzX",
        "colab_type": "code",
        "colab": {}
      },
      "source": [
        "df.head()"
      ],
      "execution_count": null,
      "outputs": []
    },
    {
      "cell_type": "code",
      "metadata": {
        "id": "xSeYXWIqMXzn",
        "colab_type": "code",
        "colab": {}
      },
      "source": [
        "len(df)"
      ],
      "execution_count": null,
      "outputs": []
    },
    {
      "cell_type": "code",
      "metadata": {
        "id": "IGFutTGoMXzz",
        "colab_type": "code",
        "colab": {}
      },
      "source": [
        "early = df[df['assignment1_submission'] <= '2015-12-31']\n",
        "late = df[df['assignment1_submission'] > '2015-12-31']"
      ],
      "execution_count": null,
      "outputs": []
    },
    {
      "cell_type": "code",
      "metadata": {
        "id": "VvPjpZ1pMXz-",
        "colab_type": "code",
        "colab": {}
      },
      "source": [
        "early.mean()"
      ],
      "execution_count": null,
      "outputs": []
    },
    {
      "cell_type": "code",
      "metadata": {
        "id": "SaRvSikcMX0H",
        "colab_type": "code",
        "colab": {}
      },
      "source": [
        "late.mean()"
      ],
      "execution_count": null,
      "outputs": []
    },
    {
      "cell_type": "code",
      "metadata": {
        "id": "BRTJjx5MMX0V",
        "colab_type": "code",
        "colab": {}
      },
      "source": [
        "from scipy import stats\n",
        "stats.ttest_ind?"
      ],
      "execution_count": null,
      "outputs": []
    },
    {
      "cell_type": "code",
      "metadata": {
        "id": "HulWVXs_MX0f",
        "colab_type": "code",
        "colab": {}
      },
      "source": [
        "stats.ttest_ind(early['assignment1_grade'], late['assignment1_grade'])"
      ],
      "execution_count": null,
      "outputs": []
    },
    {
      "cell_type": "code",
      "metadata": {
        "id": "LKGJKqKuMX0o",
        "colab_type": "code",
        "colab": {}
      },
      "source": [
        "stats.ttest_ind(early['assignment2_grade'], late['assignment2_grade'])"
      ],
      "execution_count": null,
      "outputs": []
    },
    {
      "cell_type": "code",
      "metadata": {
        "id": "khA6Ax1VMX0w",
        "colab_type": "code",
        "colab": {}
      },
      "source": [
        "stats.ttest_ind(early['assignment3_grade'], late['assignment3_grade'])"
      ],
      "execution_count": null,
      "outputs": []
    }
  ]
}